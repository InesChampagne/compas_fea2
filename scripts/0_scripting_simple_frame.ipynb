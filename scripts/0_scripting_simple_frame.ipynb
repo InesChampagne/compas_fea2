{
 "cells": [
  {
   "cell_type": "markdown",
   "metadata": {},
   "source": [
    "# compas_fea2 simple script approach\n",
    "\n",
    "This example covers the analysis of a simple 2D frame structure generated completely from scratch. \n",
    "\n",
    "### NOTE: This example is in SI (m, kg, s)"
   ]
  },
  {
   "cell_type": "code",
   "execution_count": 1,
   "metadata": {},
   "outputs": [],
   "source": [
    "import compas_fea2\n",
    "\n",
    "from compas_fea2.model import Model, elements\n",
    "from compas_fea2.model import Part\n",
    "from compas_fea2.model import Node\n",
    "from compas_fea2.model import ElasticIsotropic, Steel\n",
    "from compas_fea2.model import CircularSection, RectangularSection, MembraneSection\n",
    "from compas_fea2.model import ShellSection\n",
    "from compas_fea2.model import BeamElement, MembraneElement, ShellElement\n",
    "from compas_fea2.model import RollerBCXY\n",
    "from compas_fea2.model import FixedBC, PinnedBC\n",
    "from compas_fea2.model import NodesGroup\n",
    "from compas_fea2.model import BeamEndPinRelease\n",
    "\n",
    "from compas_fea2.problem import Problem\n",
    "from compas_fea2.problem import PointLoad\n",
    "from compas_fea2.problem import GravityLoad\n",
    "from compas_fea2.problem import FieldOutput\n",
    "from compas_fea2.problem import StaticStep, ModalAnalysis\n",
    "from compas_fea2.problem import GeneralDisplacement\n",
    "\n",
    "from compas_fea2.results import Results\n",
    "from pathlib import Path\n",
    "from pprint import pprint\n",
    "\n",
    "from compas_fea2 import TEMP"
   ]
  },
  {
   "cell_type": "markdown",
   "metadata": {},
   "source": [
    "## Plug-in registration\n",
    "\n",
    "compas_fea2 implements a plug-in architecture. The compas_fea2 main package only defines the general API for a Finite Element Analysis, while the actual implementation in the a specific backend is done in the corresponding plug-in, whcih must registered and the beginning of the script. "
   ]
  },
  {
   "cell_type": "code",
   "execution_count": 2,
   "metadata": {},
   "outputs": [
    {
     "name": "stdout",
     "output_type": "stream",
     "text": [
      "Abaqus implementations registered...\n",
      "Opensees implementations registered...\n"
     ]
    }
   ],
   "source": [
    "compas_fea2.set_backend('abaqus')"
   ]
  },
  {
   "cell_type": "markdown",
   "metadata": {},
   "source": [
    "### Verbosity\n",
    "you can choose how much info you want to see by setting the `VERBOSE` property\n",
    "to `True`"
   ]
  },
  {
   "cell_type": "code",
   "execution_count": 3,
   "metadata": {},
   "outputs": [],
   "source": [
    "compas_fea2.config.VERBOSE = True"
   ]
  },
  {
   "cell_type": "markdown",
   "metadata": {},
   "source": [
    "## Model\n",
    "\n",
    "The fist step (of an FEA) is the generation of the analysis `model`. \n",
    "A model is always composed by:\n",
    "\n",
    "1) `Parts`:\n",
    "2) `Boundary Conditions`:\n",
    "\n",
    "it can als include:\n",
    "\n",
    "3) `Constraints` and `Interactions`:\n",
    "4) `Groups of Parts`:\n"
   ]
  },
  {
   "cell_type": "code",
   "execution_count": 4,
   "metadata": {
    "tags": []
   },
   "outputs": [],
   "source": [
    "model = Model()"
   ]
  },
  {
   "cell_type": "markdown",
   "metadata": {},
   "source": [
    "### Parts\n",
    "\n",
    "`Parts` are subregions of the model that can be considered to be independent from each other. However, similar parts of a model can still be modelled as different `Parts`. \n",
    "\n",
    "A good example of a `Part` could be a brick. "
   ]
  },
  {
   "cell_type": "code",
   "execution_count": 5,
   "metadata": {
    "tags": []
   },
   "outputs": [
    {
     "name": "stdout",
     "output_type": "stream",
     "text": [
      "AbaqusPart(1922640306912) registered to AbaqusModel(1922640308256).\n",
      "\n",
      "AbaqusPart\n",
      "----------\n",
      "name : AP_1922640306912\n",
      "\n",
      "number of elements : 0\n",
      "number of nodes    : 0\n",
      "\n"
     ]
    }
   ],
   "source": [
    "frame = model.add_part(Part())\n",
    "print(frame)"
   ]
  },
  {
   "cell_type": "markdown",
   "metadata": {},
   "source": [
    "Nodes are added to the `Part`. In this example, we want to create a simple  frame with 4 nodes at the base and 1 node at height of 5m."
   ]
  },
  {
   "cell_type": "code",
   "execution_count": 6,
   "metadata": {
    "tags": []
   },
   "outputs": [
    {
     "name": "stdout",
     "output_type": "stream",
     "text": [
      "AbaqusNode(1922640064224)\n"
     ]
    }
   ],
   "source": [
    "coordinates = [[0., 0., 5.], [5., -5., 0.], [5., 5., 0.], [-5., 5., 0.], [-5., -5., 0.]]\n",
    "nodes = [Node(xyz=node) for node in coordinates]\n",
    "\n",
    "print(nodes[0])"
   ]
  },
  {
   "cell_type": "markdown",
   "metadata": {},
   "source": [
    "We can now add the material properties we plan to use in our analysis. These material will then be available in the 'Model' and can be used in the definition of the structural sections."
   ]
  },
  {
   "cell_type": "code",
   "execution_count": 7,
   "metadata": {},
   "outputs": [],
   "source": [
    "mat = ElasticIsotropic(E=10*10**9, v=0.3, density=1000)"
   ]
  },
  {
   "cell_type": "markdown",
   "metadata": {},
   "source": [
    "`compas_fea2` uses the same convention as Abaqus where the materials are assigned to the section and not to the elements (sections are assigned to the elements).\n",
    "The structural properties of the section are computed automatically accordingly to the type of section chosen (`RectangularSection` in this case)"
   ]
  },
  {
   "cell_type": "code",
   "execution_count": 8,
   "metadata": {},
   "outputs": [],
   "source": [
    "frame_sec = RectangularSection(w=0.05, h=0.1, material=mat)"
   ]
  },
  {
   "cell_type": "markdown",
   "metadata": {},
   "source": [
    "Structural elements are defined by their type, connectivity and associated section. In this case we use a `BeamElement`, so we need to specify the 2 nodes it is connected to, with the 'BoxSection' defined before.\n",
    "Elements can be added to the `Part` one by one or as a list. "
   ]
  },
  {
   "cell_type": "code",
   "execution_count": 9,
   "metadata": {},
   "outputs": [
    {
     "name": "stdout",
     "output_type": "stream",
     "text": [
      "Node AbaqusNode(1922640064224) registered to AbaqusPart(1922640306912).\n",
      "Node AbaqusNode(1922640061104) registered to AbaqusPart(1922640306912).\n",
      "Element AbaqusBeamElement(1922640184224) registered to AbaqusPart(1922640306912).\n",
      "SKIPPED: Node AbaqusNode(1922640064224) already in part.\n",
      "Node AbaqusNode(1922640061056) registered to AbaqusPart(1922640306912).\n",
      "SKIPPED: Section AbaqusRectangularSection(1922640062688) already in part.\n",
      "Element AbaqusBeamElement(1922640185472) registered to AbaqusPart(1922640306912).\n",
      "SKIPPED: Node AbaqusNode(1922640064224) already in part.\n",
      "Node AbaqusNode(1922640064320) registered to AbaqusPart(1922640306912).\n",
      "SKIPPED: Section AbaqusRectangularSection(1922640062688) already in part.\n",
      "Element AbaqusBeamElement(1922640184080) registered to AbaqusPart(1922640306912).\n",
      "SKIPPED: Node AbaqusNode(1922640064224) already in part.\n",
      "Node AbaqusNode(1922640062736) registered to AbaqusPart(1922640306912).\n",
      "SKIPPED: Section AbaqusRectangularSection(1922640062688) already in part.\n",
      "Element AbaqusBeamElement(1922536543664) registered to AbaqusPart(1922640306912).\n"
     ]
    }
   ],
   "source": [
    "beams = [frame.add_element(BeamElement(nodes=[nodes[0], node], section=frame_sec)) for node in nodes[1:]]"
   ]
  },
  {
   "cell_type": "markdown",
   "metadata": {},
   "source": [
    "## Initial Boundary Conditions"
   ]
  },
  {
   "cell_type": "code",
   "execution_count": 11,
   "metadata": {},
   "outputs": [
    {
     "data": {
      "text/plain": [
       "[AbaqusFixedBC(1922659188160),\n",
       " AbaqusFixedBC(1922659188160),\n",
       " AbaqusFixedBC(1922659188160)]"
      ]
     },
     "execution_count": 11,
     "metadata": {},
     "output_type": "execute_result"
    }
   ],
   "source": [
    "model.add_pin_bc(nodes=[nodes[1]])\n",
    "model.add_bcs(bc=FixedBC(), nodes=nodes[2:])"
   ]
  },
  {
   "cell_type": "code",
   "execution_count": 12,
   "metadata": {},
   "outputs": [
    {
     "name": "stdout",
     "output_type": "stream",
     "text": [
      "\n",
      "++++++++++++++++++++++++++++++++++++++++++++++++++++++++++++++++++++++++++++++++\n",
      "compas_fea2 Model: AM_1922640308256\n",
      "++++++++++++++++++++++++++++++++++++++++++++++++++++++++++++++++++++++++++++++++\n",
      "\n",
      "description: N/A\n",
      "author: N/A\n",
      "\n",
      "Parts\n",
      "-----\n",
      "AP_1922640306912\n",
      "    # of nodes: 5\n",
      "    # of elements: 4\n",
      "\n",
      "Interactions\n",
      "------------\n",
      "N/A\n",
      "\n",
      "Constraints\n",
      "-----------\n",
      "N/A\n",
      "\n",
      "Boundary Conditions\n",
      "-------------------\n",
      "AP_1922640306912: \n",
      "  AbaqusPinnedBC(1922640186864) - # of restrained nodes 1\n",
      "  AbaqusFixedBC(1922659188160) - # of restrained nodes 3\n",
      "\n"
     ]
    },
    {
     "data": {
      "text/plain": [
       "'\\n++++++++++++++++++++++++++++++++++++++++++++++++++++++++++++++++++++++++++++++++\\ncompas_fea2 Model: AM_1922640308256\\n++++++++++++++++++++++++++++++++++++++++++++++++++++++++++++++++++++++++++++++++\\n\\ndescription: N/A\\nauthor: N/A\\n\\nParts\\n-----\\nAP_1922640306912\\n    # of nodes: 5\\n    # of elements: 4\\n\\nInteractions\\n------------\\nN/A\\n\\nConstraints\\n-----------\\nN/A\\n\\nBoundary Conditions\\n-------------------\\nAP_1922640306912: \\n  AbaqusPinnedBC(1922640186864) - # of restrained nodes 1\\n  AbaqusFixedBC(1922659188160) - # of restrained nodes 3\\n'"
      ]
     },
     "execution_count": 12,
     "metadata": {},
     "output_type": "execute_result"
    }
   ],
   "source": [
    "model.summary()"
   ]
  },
  {
   "cell_type": "markdown",
   "metadata": {},
   "source": [
    "## Problem definition\n",
    "The second part of the FEA is to define the `Problem` to be solved. To define a `Problem` you need a `Model` and the `Steps` in which the loads are applied.  "
   ]
  },
  {
   "cell_type": "code",
   "execution_count": 13,
   "metadata": {
    "tags": []
   },
   "outputs": [],
   "source": [
    "\n",
    "problem = Problem(model=model, name='test')"
   ]
  },
  {
   "cell_type": "code",
   "execution_count": 14,
   "metadata": {},
   "outputs": [],
   "source": [
    "step_0 = problem.add_step(StaticStep())\n",
    "step_0.add_gravity_load()\n",
    "\n",
    "step_1 = problem.add_step(StaticStep())\n",
    "step_1.add_point_load(x=1000, z=-1000, node=nodes[0])\n",
    "# # Define the field outputs required\n",
    "fout = step_1.add_output(FieldOutput())"
   ]
  },
  {
   "cell_type": "markdown",
   "metadata": {},
   "source": [
    "Once the `Probelm` is set, you can solve it running the analysis. You need to specify the location of the analysis files generated by Abaqus.\n",
    "The output log for now is limited to the one automatically generated by Abaqus, but the plan is to expand it to have more info about the status of the analysis, possible warnings or errors, etc. "
   ]
  },
  {
   "cell_type": "code",
   "execution_count": 17,
   "metadata": {
    "tags": []
   },
   "outputs": [
    {
     "name": "stdout",
     "output_type": "stream",
     "text": [
      "SKIPPED: Element AbaqusBeamElement(1922640185472) already in part.\n",
      "SKIPPED: Element AbaqusBeamElement(1922640184080) already in part.\n",
      "SKIPPED: Element AbaqusBeamElement(1922640184224) already in part.\n",
      "SKIPPED: Element AbaqusBeamElement(1922536543664) already in part.\n",
      "Model generated in  0.0020 secs\n",
      "Problem generated in  0.0002 secs\n",
      "Input file generated in: c:\\code\\myrepos\\from_compas\\fea2\\temp\\example\\test.inp\n",
      "Finished writing input file in 0.0062 secs\n",
      "Analysis initiated from SIMULIA established products\n",
      "Abaqus JOB test\n",
      "Abaqus 2021\n",
      "Begin Analysis Input File Processor\n",
      "5/31/2022 4:54:52 PM\n",
      "Run pre.exe\n",
      "5/31/2022 4:54:58 PM\n",
      "End Analysis Input File Processor\n",
      "Begin Abaqus/Standard Analysis\n",
      "5/31/2022 4:54:58 PM\n",
      "Run standard.exe\n",
      "5/31/2022 4:55:03 PM\n",
      "End Abaqus/Standard Analysis\n",
      "Begin SIM Wrap-up\n",
      "5/31/2022 4:55:05 PM\n",
      "Run SMASimUtility.exe\n",
      "5/31/2022 4:55:05 PM\n",
      "End SIM Wrap-up\n",
      "Abaqus JOB test COMPLETED\n",
      "Analysis completed in 15.4449 secs\n",
      "\n",
      "Extracting data from Abaqus .odb file...\n",
      "Data extracted from Abaqus .odb file in 0.9542 secs\n",
      "Finished analysis and data extraction in 16.4003 secs\n"
     ]
    }
   ],
   "source": [
    "# # Solve the problem\n",
    "problem.analyse_and_extract(path=Path(TEMP).joinpath('example'))"
   ]
  },
  {
   "cell_type": "markdown",
   "metadata": {},
   "source": [
    "## Results Visualization\n",
    "\n",
    "...not there yet... :)"
   ]
  },
  {
   "cell_type": "code",
   "execution_count": 23,
   "metadata": {},
   "outputs": [],
   "source": [
    "##### --------------------- POSTPROCESS RESULTS -------------------------- #####\n",
    "problem.show(reactions=0.005)\n"
   ]
  }
 ],
 "metadata": {
  "interpreter": {
   "hash": "31fc3f2b9c79b173e1d3c1022cbd1fc35c20eb62aa0381d417cbb023940773e7"
  },
  "kernelspec": {
   "display_name": "Python 3.8.6 64-bit ('fea2': conda)",
   "name": "python3"
  },
  "language_info": {
   "codemirror_mode": {
    "name": "ipython",
    "version": 3
   },
   "file_extension": ".py",
   "mimetype": "text/x-python",
   "name": "python",
   "nbconvert_exporter": "python",
   "pygments_lexer": "ipython3",
   "version": "3.9.13"
  },
  "orig_nbformat": 2
 },
 "nbformat": 4,
 "nbformat_minor": 2
}
