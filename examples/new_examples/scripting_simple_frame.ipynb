{
 "cells": [
  {
   "source": [
    "## compas_fea2 simple script approach"
   ],
   "cell_type": "markdown",
   "metadata": {}
  },
  {
   "cell_type": "code",
   "execution_count": 1,
   "metadata": {},
   "outputs": [],
   "source": [
    "from compas_fea2.backends.abaqus.components import Node\n",
    "from compas_fea2.backends.abaqus.components import Concrete\n",
    "from compas_fea2.backends.abaqus.components import ElasticIsotropic\n",
    "from compas_fea2.backends.abaqus.components import BoxSection\n",
    "from compas_fea2.backends.abaqus.components import SolidSection\n",
    "from compas_fea2.backends.abaqus.components import BeamElement\n",
    "from compas_fea2.backends.abaqus.components import SolidElement\n",
    "from compas_fea2.backends.abaqus.components import FixedDisplacement\n",
    "from compas_fea2.backends.abaqus.components import RollerDisplacementXZ\n",
    "from compas_fea2.backends.abaqus.components import Part\n",
    "from compas_fea2.backends.abaqus.components import Set\n",
    "from compas_fea2.backends.abaqus.components import Assembly\n",
    "from compas_fea2.backends.abaqus.components import Instance\n",
    "from compas_fea2.backends.abaqus.components import GeneralStaticStep\n",
    "from compas_fea2.backends.abaqus.components import PointLoad\n",
    "from compas_fea2.backends.abaqus.components import FieldOutput\n",
    "\n",
    "from compas_fea2.backends.abaqus import Structure"
   ]
  },
  {
   "cell_type": "code",
   "execution_count": 2,
   "metadata": {},
   "outputs": [],
   "source": [
    "# Create a part to add to the assembly\n",
    "part1 = Part(name='part-1')\n",
    "\n",
    "# Add nodes to the part\n",
    "for x in range(0, 1100, 100):\n",
    "    part1.add_node(Node([x, 0.0, 0.0]))\n",
    "for y in range(100, 600, 100):\n",
    "    part1.add_node(Node([x, y, 0.0]))\n",
    "for x in range(900, -100, -100):\n",
    "    part1.add_node(Node([x, y, 0.0]))\n",
    "for y in range(400, 0, -100):\n",
    "    part1.add_node(Node([x, y, 0.0]))\n"
   ]
  },
  {
   "cell_type": "code",
   "execution_count": 3,
   "metadata": {
    "tags": []
   },
   "outputs": [
    {
     "output_type": "stream",
     "name": "stdout",
     "text": "{Section(section_B): [0, 1, 2, 3, 4, 5, 6, 7, 8, 9, 10, 11, 12, 13, 14, 15, 16, 17, 18, 19, 20, 21, 22, 23, 24, 25, 26, 27, 28], Section(section_A): [29]}\n"
    }
   ],
   "source": [
    "# Define materials\n",
    "mat1 = ElasticIsotropic(name='mat1', E=29000, v=0.17, p=2.5e-9)\n",
    "mat2 = ElasticIsotropic(name='mat2', E=25000, v=0.17, p=2.4e-9)\n",
    "\n",
    "# Define sections\n",
    "section_A = BoxSection(name='section_A', material=mat2, a=20, b=80, t1=5, t2=5, t3=5, t4=5)\n",
    "section_B = BoxSection(name='section_B', material=mat2, a=50, b=100, t1=5, t2=5, t3=5, t4=5)\n",
    "\n",
    "# Generate elements between nodes\n",
    "elements = []\n",
    "for e in range(len(part1.nodes)-1):\n",
    "    elements.append((BeamElement([e, e+1], section_B)))\n",
    "part1.add_elements(elements)\n",
    "part1.add_element(BeamElement([29, 0], section_A, elset='test'))\n",
    "\n",
    "# part1.remove_element(29) # --> TODO I need to remove the set as well!\n",
    "print(part1.elements_by_section)\n"
   ]
  },
  {
   "cell_type": "code",
   "execution_count": 4,
   "metadata": {
    "tags": []
   },
   "outputs": [
    {
     "output_type": "stream",
     "name": "stdout",
     "text": "***** Abaqus input file generated: C:/temp/test_structure/test_structure.inp *****\n\n"
    }
   ],
   "source": [
    "# Define sets for boundary conditions and loads\n",
    "nset_fixed = Set('fixed', [0])\n",
    "nset_roller = Set('roller', [10])\n",
    "nset_pload = Set('pload', [20])\n",
    "sets = [nset_fixed, nset_roller, nset_pload]\n",
    "\n",
    "# Create an instance of the part\n",
    "instance1 = Instance(name='test_instance', part=part1, sets=sets)\n",
    "\n",
    "# Build the assembly\n",
    "assembly = Assembly(name='assembly', instances=[instance1])\n",
    "\n",
    "# Assign boundary conditions to the node stes\n",
    "bc1 = RollerDisplacementXZ('bc_roller', nset_roller)\n",
    "bc2 = FixedDisplacement('bc_fix', nset_fixed)\n",
    "\n",
    "# Assign a point load to the node set\n",
    "pload1 = PointLoad('pload1', nset_pload, y=-1000)\n",
    "\n",
    "# Define the field outputs required\n",
    "fout = FieldOutput('my_fout')\n",
    "\n",
    "# Define the analysis step\n",
    "step = GeneralStaticStep('gstep', loads=[pload1], field_output=[fout])\n",
    "\n",
    "# Create the Structure object\n",
    "my_structure = Structure('test_structure', [part1], assembly, [], [bc1, bc2], [step])\n",
    "\n",
    "# Analyse the structure\n",
    "my_structure.write_input_file(path='C:/temp/test_structure')"
   ]
  },
  {
   "cell_type": "code",
   "execution_count": null,
   "metadata": {},
   "outputs": [],
   "source": []
  }
 ],
 "metadata": {
  "language_info": {
   "codemirror_mode": {
    "name": "ipython",
    "version": 3
   },
   "file_extension": ".py",
   "mimetype": "text/x-python",
   "name": "python",
   "nbconvert_exporter": "python",
   "pygments_lexer": "ipython3",
   "version": "3.7.6-final"
  },
  "orig_nbformat": 2,
  "kernelspec": {
   "name": "python3",
   "display_name": "Python 3"
  }
 },
 "nbformat": 4,
 "nbformat_minor": 2
}