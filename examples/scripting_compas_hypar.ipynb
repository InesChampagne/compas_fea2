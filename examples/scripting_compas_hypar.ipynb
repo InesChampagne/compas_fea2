{
 "cells": [
  {
   "source": [
    "# compas_fea2 simple script approach\n",
    "\n",
    "This example covers the analysis of a simple 2D frame structure generated completly from scratch. "
   ],
   "cell_type": "markdown",
   "metadata": {}
  },
  {
   "cell_type": "code",
   "execution_count": 3,
   "metadata": {},
   "outputs": [],
   "source": [
    "import compas\n",
    "from compas.geometry import Box\n",
    "from compas.datastructures import Mesh\n",
    "from compas.geometry import normalize_vector\n",
    "\n",
    "from compas_fea2.backends.abaqus.model import Model\n",
    "from compas_fea2.backends.abaqus.model import Part\n",
    "from compas_fea2.backends.abaqus.model import Node\n",
    "from compas_fea2.backends.abaqus.model import ElasticIsotropic\n",
    "from compas_fea2.backends.abaqus.model import BoxSection\n",
    "from compas_fea2.backends.abaqus.model import BeamElement\n",
    "from compas_fea2.backends.abaqus.model import Set\n",
    "\n",
    "from compas_fea2.backends.abaqus.problem import Problem\n",
    "from compas_fea2.backends.abaqus.problem import FixedDisplacement\n",
    "from compas_fea2.backends.abaqus.problem import RollerDisplacementXZ\n",
    "from compas_fea2.backends.abaqus.problem import PointLoad\n",
    "from compas_fea2.backends.abaqus.problem import FieldOutput\n",
    "from compas_fea2.backends.abaqus.problem import GeneralStaticStep"
   ]
  },
  {
   "source": [
    "## Model generation\n",
    "\n",
    "The geometry of the model is obtained through compas. For this example an .obj of a hypar is converted to a compas mesh: the nodes and the edges are then used to create the compas_fea2 Nodes and Elements objects. \n"
   ],
   "cell_type": "markdown",
   "metadata": {}
  },
  {
   "cell_type": "code",
   "execution_count": 4,
   "metadata": {
    "tags": []
   },
   "outputs": [
    {
     "output_type": "stream",
     "name": "stdout",
     "text": "\ncompas_fea2 Part object\n-----------------------\nname            : part-1\n# of nodes      : 81\n# of elements   : 144\n"
    }
   ],
   "source": [
    "model = Model(name='structural_model')\n",
    "model.add_part(Part(name='part-1'))\n",
    "\n",
    "mesh = Mesh.from_obj('C:/temp/hypar.obj')\n",
    "for v in mesh.vertices():\n",
    "    model.add_node(Node(mesh.vertex_coordinates(v)), 'part-1')\n",
    "\n",
    "# Define materials and sections\n",
    "model.add_material(ElasticIsotropic(name='mat_A', E=29000, v=0.17, p=2.5e-9))\n",
    "model.add_section(BoxSection(name='section_A', material='mat_A', a=20, b=80, t1=5, t2=5, t3=5, t4=5))\n",
    "\n",
    "# Generate elements between nodes\n",
    "key_index = mesh.key_index()\n",
    "vertices = list(mesh.vertices())\n",
    "edges = [(key_index[u], key_index[v]) for u, v in mesh.edges()]\n",
    "for e in edges:\n",
    "    # get elements orientation\n",
    "    v = normalize_vector(mesh.edge_vector(e[0], e[1]))\n",
    "    v.append(v.pop(0))\n",
    "    # add element to the model\n",
    "    model.add_element(BeamElement(connectivity=[e[0], e[1]], section='section_A', orientation=v), part='part-1')\n",
    "\n",
    "print(model.parts['part-1'])"
   ]
  },
  {
   "source": [
    "To find the location of the supports and the point load application point, the `get_node_from_coordinates` method is used. "
   ],
   "cell_type": "markdown",
   "metadata": {}
  },
  {
   "cell_type": "code",
   "execution_count": 5,
   "metadata": {
    "tags": []
   },
   "outputs": [
    {
     "output_type": "stream",
     "name": "stdout",
     "text": "{'part-1': 8}\n"
    }
   ],
   "source": [
    "n_fixed = model.get_node_from_coordinates([5000, 0, 0,])\n",
    "n_roller = model.get_node_from_coordinates([0, 3000, 0,])\n",
    "n_load  = model.get_node_from_coordinates([0, 0, -5000])\n",
    "\n",
    "print(n_load)"
   ]
  },
  {
   "cell_type": "code",
   "execution_count": 6,
   "metadata": {
    "tags": []
   },
   "outputs": [],
   "source": [
    "\n",
    "# Define sets for boundary conditions and loads\n",
    "model.add_assembly_set(Set(name='fixed', selection=[n_fixed['part-1']], stype='nset'), instance='part-1-1')\n",
    "model.add_assembly_set(Set(name='roller', selection=[n_roller['part-1']], stype='nset'), instance='part-1-1')\n",
    "model.add_assembly_set(Set(name='pload', selection=[n_load['part-1']], stype='nset'), instance='part-1-1')"
   ]
  },
  {
   "source": [
    "## Problem definition"
   ],
   "cell_type": "markdown",
   "metadata": {}
  },
  {
   "cell_type": "code",
   "execution_count": 7,
   "metadata": {
    "tags": []
   },
   "outputs": [
    {
     "output_type": "stream",
     "name": "stdout",
     "text": "***** Abaqus input file generated: C:/temp/test_structure/test_structure.inp *****\n\nb'**********************************************************************'\nb'** Visual Studio 2019 Developer Command Prompt v16.6.2'\nb'** Copyright (c) 2020 Microsoft Corporation'\nb'**********************************************************************'\nb\"[vcvarsall.bat] Environment initialized for: 'x64'\"\nb''\nb'Intel(R) MPI Library 2019 Update 7 for Windows* Target Build Environment for Intel(R) 64 applications'\nb'Copyright 2007-2020 Intel Corporation.'\nb''\nb'Copyright (C) 1985-2019 Intel Corporation. All rights reserved.'\nb'Intel(R) Compiler 19.1 Update 1 (package 216)'\nb''\nb'**********************************************************************'\nb'** Visual Studio 2019 Developer Command Prompt v16.6.2'\nb'** Copyright (c) 2020 Microsoft Corporation'\nb'**********************************************************************'\nb\"[vcvarsall.bat] Environment initialized for: 'x64'\"\nb'Analysis initiated from SIMULIA established products'\nb'Abaqus JOB test_structure'\nb'Abaqus 3DEXPERIENCE R2019x'\nb'Begin Analysis Input File Processor'\nb'7/14/2020 5:08:37 PM'\nb'Run pre.exe'\nb'7/14/2020 5:08:41 PM'\nb'End Analysis Input File Processor'\nb'Begin Abaqus/Standard Analysis'\nb'7/14/2020 5:08:41 PM'\nb'Run standard.exe'\nb'7/14/2020 5:08:44 PM'\nb'End Abaqus/Standard Analysis'\nb'Begin Convert MFS to SFS'\nb'7/14/2020 5:08:46 PM'\nb'Run SMASimUtility.exe'\nb'7/14/2020 5:08:46 PM'\nb'End Convert MFS to SFS'\nb'Abaqus JOB test_structure COMPLETED'\nb''\nb'Abaqus License Manager checked out the following licenses:\\r\\nAbaqus/Standard checked out 5 tokens from Flexnet server lic-abaqus.ethz.ch.\\r\\n<409 out of 840 licenses remain available>.\\r\\n'\n***** Analysis successful - analysis time : 39.036181688308716 s *****\n"
    }
   ],
   "source": [
    "\n",
    "# Create the Problem object\n",
    "problem = Problem(name='test_structure', assembly=model)\n",
    "\n",
    "# Assign boundary conditions to the node stes\n",
    "problem.add_bcs(bcs=[RollerDisplacementXZ(name='bc_roller', bset='roller'),\n",
    "                        FixedDisplacement(name='bc_fix', bset='fixed')])\n",
    "\n",
    "# Assign a point load to the node set\n",
    "problem.add_load(load=PointLoad(name='pload', lset='pload', y=-1000))\n",
    "\n",
    "# Define the field outputs required\n",
    "problem.add_field_output(fout=FieldOutput(name='fout'))\n",
    "\n",
    "# Define the analysis step\n",
    "problem.add_step(step=GeneralStaticStep(name='gstep', loads=['pload'], field_output=['fout']))\n",
    "\n",
    "# Solve the problem\n",
    "# my_structure.write_input_file(path='C:/temp/test_structure')\n",
    "problem.analyse(path='C:/temp/test_structure')\n"
   ]
  },
  {
   "cell_type": "code",
   "execution_count": null,
   "metadata": {},
   "outputs": [],
   "source": []
  }
 ],
 "metadata": {
  "language_info": {
   "codemirror_mode": {
    "name": "ipython",
    "version": 3
   },
   "file_extension": ".py",
   "mimetype": "text/x-python",
   "name": "python",
   "nbconvert_exporter": "python",
   "pygments_lexer": "ipython3",
   "version": "3.7.6-final"
  },
  "orig_nbformat": 2,
  "kernelspec": {
   "name": "python3",
   "display_name": "Python 3"
  }
 },
 "nbformat": 4,
 "nbformat_minor": 2
}