{
 "cells": [
  {
   "source": [
    "# compas_fea2 simple script approach\n",
    "\n",
    "This example covers the analysis of a simple 2D frame structure generated completely from scratch. "
   ],
   "cell_type": "markdown",
   "metadata": {}
  },
  {
   "cell_type": "code",
   "execution_count": 1,
   "metadata": {},
   "outputs": [],
   "source": [
    "from compas_fea2.backends.abaqus.model import Model\n",
    "from compas_fea2.backends.abaqus.model import Part\n",
    "from compas_fea2.backends.abaqus.model import Node\n",
    "from compas_fea2.backends.abaqus.model import ElasticIsotropic\n",
    "from compas_fea2.backends.abaqus.model import BoxSection\n",
    "from compas_fea2.backends.abaqus.model import BeamElement\n",
    "from compas_fea2.backends.abaqus.model import Set\n",
    "\n",
    "from compas_fea2.backends.abaqus.problem import Problem\n",
    "from compas_fea2.backends.abaqus.problem import FixedDisplacement\n",
    "from compas_fea2.backends.abaqus.problem import RollerDisplacementXZ\n",
    "from compas_fea2.backends.abaqus.problem import PointLoad\n",
    "from compas_fea2.backends.abaqus.problem import FieldOutput\n",
    "from compas_fea2.backends.abaqus.problem import GeneralStaticStep"
   ]
  },
  {
   "source": [
    "## Model generation\n",
    "\n",
    "The fist step (of an FEA) is the generation of the analysis `model`. \n",
    "A model is always composed by:\n",
    "\n",
    "1) geometry: nodes, connectivity among nodes, parts in which nodes and elements are groups, etc.\n",
    "The geometry can either be created from scratch (as in this example) or be imported from other datastructures (networks, meshes, etc).\n",
    "\n",
    "2) properties:  materials, sections, elements, interactions, etc. Properties are applied to the geometry to simulate the mechanical behaviour. \n",
    "\n",
    "In a compas workflow, geometry and properties are provided by the compas_package that creates the structure to analyse. \n"
   ],
   "cell_type": "markdown",
   "metadata": {}
  },
  {
   "cell_type": "code",
   "execution_count": 2,
   "metadata": {
    "tags": []
   },
   "outputs": [
    {
     "output_type": "stream",
     "name": "stdout",
     "text": [
      "\ncompas_fea2 Model object\n------------------------\nname            : structural_model\n# of parts      : 0\n# of instances  : 0\n"
     ]
    }
   ],
   "source": [
    "model = Model(name='structural_model')\n",
    "\n",
    "print(model)"
   ]
  },
  {
   "source": [
    "### Parts\n",
    "\n",
    "`Parts` are subregions of the model that can be considered to be independent from each other. However, similar parts of a model can still be modelled as different `Parts`. \n",
    "\n",
    "A good example of a `Part` could be a brick. "
   ],
   "cell_type": "markdown",
   "metadata": {}
  },
  {
   "cell_type": "code",
   "execution_count": 3,
   "metadata": {
    "tags": []
   },
   "outputs": [
    {
     "output_type": "stream",
     "name": "stdout",
     "text": [
      "\ncompas_fea2 Part object\n-----------------------\nname            : part-1\n# of nodes      : 0\n# of elements   : 0\n"
     ]
    }
   ],
   "source": [
    "model.add_part(Part(name='part-1'))\n",
    "\n",
    "print(model.parts['part-1'])"
   ]
  },
  {
   "source": [
    "Nodes can be added to the `Part` or directly to the `Model` by specifying the name of the `Part` to which they belong.\n",
    "In this example, we want to create a simple rectangular frame with a node on each side of the frame every 100mm."
   ],
   "cell_type": "markdown",
   "metadata": {}
  },
  {
   "cell_type": "code",
   "execution_count": 4,
   "metadata": {
    "tags": []
   },
   "outputs": [
    {
     "output_type": "stream",
     "name": "stdout",
     "text": [
      "\ncompas_fea2 Node object\n-----------------------\nlabel      : n-5\nkey        : 5\nx          : 500.0\ny          : 0.0\nz          : 0.0\nex         : None\ney         : None\nez         : None\nmass       : None\n"
     ]
    }
   ],
   "source": [
    "for x in range(0, 1100, 100):\n",
    "    model.add_node(Node(xyz=[x, 0.0, 0.0]), part='part-1')\n",
    "for y in range(100, 600, 100):\n",
    "    model.add_node(Node(xyz=[x, y, 0.0]), part='part-1')\n",
    "for x in range(900, -100, -100):\n",
    "    model.add_node(Node(xyz=[x, y, 0.0]), part='part-1')\n",
    "for y in range(400, 0, -100):\n",
    "    model.add_node(Node(xyz=[x, y, 0.0]), part='part-1')\n",
    "\n",
    "print(model.parts['part-1'].nodes[5])"
   ]
  },
  {
   "source": [
    "We can now add the material properties we plan to use in our analysis. These material will then be available in the 'Model' and can be used in the definition of the structural sections."
   ],
   "cell_type": "markdown",
   "metadata": {}
  },
  {
   "cell_type": "code",
   "execution_count": 5,
   "metadata": {
    "tags": []
   },
   "outputs": [
    {
     "output_type": "stream",
     "name": "stdout",
     "text": [
      "\ncompas_fea2 ElasticIsotropic object\n-----------------------------------\nname        : mat_A\nE           : {'E': 29000}\nv           : {'v': 0.17}\nG           : {'G': 12393.162393162394}\np           : 2.5e-09\n"
     ]
    }
   ],
   "source": [
    "# Define materials\n",
    "model.add_material(ElasticIsotropic(name='mat_A', E=29000, v=0.17, p=2.5e-9))\n",
    "model.add_material(ElasticIsotropic(name='mat_B', E=25000, v=0.17, p=2.5e-9))\n",
    "\n",
    "print(model.materials['mat_A'])"
   ]
  },
  {
   "source": [
    "`compas_fea2` uses the same convention as Abaqus where the materials are assigned to the section and not to the elements (sections are assigned to the elements).\n",
    "In the definition of a structural section you can specify a particular material by passing the material name. The structural properties are computed automatically accordingly to the type of section chosen (`BoxSection` in this case)"
   ],
   "cell_type": "markdown",
   "metadata": {}
  },
  {
   "cell_type": "code",
   "execution_count": 6,
   "metadata": {
    "tags": []
   },
   "outputs": [
    {
     "output_type": "stream",
     "name": "stdout",
     "text": [
      "\ncompas_fea2 Section object\n--------------------------\nname  : section_A\n"
     ]
    }
   ],
   "source": [
    "# Define sections\n",
    "model.add_section(BoxSection(name='section_A', material='mat_A', a=20, b=80, t1=5, t2=5, t3=5, t4=5))\n",
    "model.add_section(BoxSection(name='section_B', material='mat_B', a=20, b=80, t1=5, t2=5, t3=5, t4=5))\n",
    "\n",
    "print(model.sections['section_A'])"
   ]
  },
  {
   "source": [
    "Structural elements are defined by their type, connectivity and associated section. In this case we use a `BeamElement`, so we need to specify the 2 nodes it is connected to, with the 'BoxSection' defined before.\n",
    "Elements can be added to the `model` one by one or as a list. "
   ],
   "cell_type": "markdown",
   "metadata": {}
  },
  {
   "cell_type": "code",
   "execution_count": 7,
   "metadata": {
    "tags": []
   },
   "outputs": [
    {
     "output_type": "stream",
     "name": "stdout",
     "text": [
      "\ncompas_fea2 BeamElement object\n------------------------------\nkey        : 15\netype      : beam\nconnectivity : [15, 16]\n"
     ]
    }
   ],
   "source": [
    "# Generate elements between nodes\n",
    "elements = []\n",
    "for e in range(len(model.parts['part-1'].nodes)-1):\n",
    "    elements.append((BeamElement(connectivity=[e, e+1], section='section_A')))\n",
    "model.add_elements(elements=elements, part='part-1')\n",
    "model.add_element(element=BeamElement(connectivity=[29, 0], section='section_B'), part='part-1')\n",
    "\n",
    "print(model.parts['part-1'].elements[15])\n"
   ]
  },
  {
   "source": [
    "A `Set` is a unique collection of either nodes or elements and it is used to assign loads or boundary conditions.\n",
    "In this case we defined two sets for the boundary conditions using node `0` and `10` and one for a point load at node `20`. "
   ],
   "cell_type": "markdown",
   "metadata": {}
  },
  {
   "cell_type": "code",
   "execution_count": 8,
   "metadata": {},
   "outputs": [],
   "source": [
    "# Define sets for boundary conditions and loads\n",
    "model.add_assembly_set(Set(name='fixed', selection=[0], stype='nset'), instance='part-1-1')\n",
    "model.add_assembly_set(Set(name='roller', selection=[10], stype='nset'), instance='part-1-1')\n",
    "model.add_assembly_set(Set(name='pload', selection=[20], stype='nset'), instance='part-1-1')"
   ]
  },
  {
   "cell_type": "code",
   "execution_count": 9,
   "metadata": {
    "tags": []
   },
   "outputs": [
    {
     "output_type": "stream",
     "name": "stdout",
     "text": [
      "\ncompas_fea2 Model object\n------------------------\nname            : structural_model\n# of parts      : 1\n# of instances  : 1\n"
     ]
    }
   ],
   "source": [
    "print(model)"
   ]
  },
  {
   "source": [
    "## Problem definition\n",
    "The second part of the FEA is to define the `Problem` to be solved. To define a `Problem` you need a `Model`, boundary conditions (`bcs`), `laods`, field and history `outputs` and analysis 'steps'.  "
   ],
   "cell_type": "markdown",
   "metadata": {}
  },
  {
   "cell_type": "code",
   "execution_count": 10,
   "metadata": {
    "tags": []
   },
   "outputs": [
    {
     "output_type": "stream",
     "name": "stdout",
     "text": [
      "\n++++++++++++++++++++++++++++++++++++++++++++++++++++++++++++++++++++++++++++++++\ncompas_fea2 Problem: test_structure\n++++++++++++++++++++++++++++++++++++++++++++++++++++++++++++++++++++++++++++++++\n\nBoundary Conditions\n-------------------\n  bc_roller : RollerDisplacementXZ\n  bc_fix : FixedDisplacement\n\nLoads\n-----\n  pload : PointLoad\n\nSteps\n-----\n  fout : FieldOutputRequst\n\nSteps Order\n-----------\n  standard : FieldOutputRequst\n\nField Output Requests\n---------------------\n  standard : FieldOutputRequst\n\nHistory Output Requests\n-----------------------\n  standard : FieldOutputRequst\n\n\n"
     ]
    }
   ],
   "source": [
    "\n",
    "# Create the Problem object\n",
    "problem = Problem(name='test_structure', model=model)\n",
    "\n",
    "# Assign boundary conditions to the node stes\n",
    "problem.add_bcs(bcs=[RollerDisplacementXZ(name='bc_roller', bset='roller'),\n",
    "                        FixedDisplacement(name='bc_fix', bset='fixed')])\n",
    "\n",
    "# Assign a point load to the node set\n",
    "problem.add_load(load=PointLoad(name='pload', lset='pload', y=-1000))\n",
    "\n",
    "# Define the field outputs required\n",
    "problem.add_field_output(fout=FieldOutput(name='fout'))\n",
    "\n",
    "# Define the analysis step\n",
    "problem.add_step(step=GeneralStaticStep(name='gstep', loads=['pload'], field_outputs=['fout']))\n",
    "\n",
    "print(problem)\n"
   ]
  },
  {
   "source": [
    "Once the `Probelm` is set, you can solve it running the analysis. You need to specify the location of the analysis files generated by Abaqus.\n",
    "The output log for now is limited to the one automatically generated by Abaqus, but the plan is to expand it to have more info about the status of the analysis, possible warnings or errors, etc. "
   ],
   "cell_type": "markdown",
   "metadata": {}
  },
  {
   "cell_type": "code",
   "execution_count": 11,
   "metadata": {
    "tags": []
   },
   "outputs": [
    {
     "output_type": "stream",
     "name": "stdout",
     "text": [
      "***** Input file generated in: C:/temp/fea2_workshop\\test_structure.inp *****\n",
      "\n",
      "b'Analysis initiated from SIMULIA established products'\n",
      "b'Abaqus JOB test_structure'\n",
      "b'Abaqus 3DEXPERIENCE R2019x'\n",
      "b'Begin Analysis Input File Processor'\n",
      "b'1/8/2021 3:56:41 PM'\n",
      "b'Run pre.exe'\n",
      "b'1/8/2021 3:56:46 PM'\n",
      "b'End Analysis Input File Processor'\n",
      "b'Begin Abaqus/Standard Analysis'\n",
      "b'1/8/2021 3:56:46 PM'\n",
      "b'Run standard.exe'\n",
      "b'1/8/2021 3:56:49 PM'\n",
      "b'End Abaqus/Standard Analysis'\n",
      "b'Begin Convert MFS to SFS'\n",
      "b'1/8/2021 3:56:51 PM'\n",
      "b'Run SMASimUtility.exe'\n",
      "b'1/8/2021 3:56:51 PM'\n",
      "b'End Convert MFS to SFS'\n",
      "b'Abaqus JOB test_structure COMPLETED'\n",
      "b''\n",
      "b'Abaqus License Manager checked out the following licenses:\\r\\nAbaqus/Standard checked out 5 tokens from Flexnet server lic-abaqus.ethz.ch.\\r\\n<302 out of 320 licenses remain available>.\\r\\n'\n",
      "***** Analysis successful - analysis time : 16.002654552459717 s *****\n"
     ]
    }
   ],
   "source": [
    "# Solve the problem\n",
    "# my_structure.write_input_file(path='C:/temp/test_structure')\n",
    "problem.analyse(path='C:/temp/fea2_workshop')"
   ]
  },
  {
   "source": [
    "## Results Visualization\n",
    "\n",
    "...not there yet... :)"
   ],
   "cell_type": "markdown",
   "metadata": {}
  }
 ],
 "metadata": {
  "language_info": {
   "codemirror_mode": {
    "name": "ipython",
    "version": 3
   },
   "file_extension": ".py",
   "mimetype": "text/x-python",
   "name": "python",
   "nbconvert_exporter": "python",
   "pygments_lexer": "ipython3",
   "version": "3.8.6-final"
  },
  "orig_nbformat": 2,
  "kernelspec": {
   "name": "python3",
   "display_name": "Python 3.8.6 64-bit ('fea2': conda)",
   "metadata": {
    "interpreter": {
     "hash": "31fc3f2b9c79b173e1d3c1022cbd1fc35c20eb62aa0381d417cbb023940773e7"
    }
   }
  }
 },
 "nbformat": 4,
 "nbformat_minor": 2
}