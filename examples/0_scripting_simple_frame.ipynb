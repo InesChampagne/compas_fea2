{
 "cells": [
  {
   "cell_type": "markdown",
   "source": [
    "# compas_fea2 simple script approach\n",
    "\n",
    "This example covers the analysis of a simple 2D frame structure generated completely from scratch. "
   ],
   "metadata": {}
  },
  {
   "cell_type": "code",
   "execution_count": 1,
   "source": [
    "from compas_fea2.backends.abaqus.model import Model\n",
    "from compas_fea2.backends.abaqus.model import Part\n",
    "from compas_fea2.backends.abaqus.model import Node\n",
    "from compas_fea2.backends.abaqus.model import ElasticIsotropic\n",
    "from compas_fea2.backends.abaqus.model import BoxSection\n",
    "from compas_fea2.backends.abaqus.model import BeamElement\n",
    "from compas_fea2.backends.abaqus.model import Set\n",
    "\n",
    "from compas_fea2.backends.abaqus.problem import Problem\n",
    "from compas_fea2.backends.abaqus.problem import FixedDisplacement\n",
    "from compas_fea2.backends.abaqus.problem import RollerDisplacementXZ\n",
    "from compas_fea2.backends.abaqus.problem import PointLoad\n",
    "from compas_fea2.backends.abaqus.problem import FieldOutput\n",
    "from compas_fea2.backends.abaqus.problem import GeneralStaticStep"
   ],
   "outputs": [],
   "metadata": {}
  },
  {
   "cell_type": "markdown",
   "source": [
    "## Model generation\n",
    "\n",
    "The fist step (of an FEA) is the generation of the analysis `model`. \n",
    "A model is always composed by:\n",
    "\n",
    "1) geometry: nodes, connectivity among nodes, parts in which nodes and elements are groups, etc.\n",
    "The geometry can either be created from scratch (as in this example) or be imported from other datastructures (networks, meshes, etc).\n",
    "\n",
    "2) properties:  materials, sections, elements, interactions, etc. Properties are applied to the geometry to simulate the mechanical behaviour. \n",
    "\n",
    "In a compas workflow, geometry and properties are provided by the compas_package that creates the structure to analyse. \n"
   ],
   "metadata": {}
  },
  {
   "cell_type": "code",
   "execution_count": 2,
   "source": [
    "model = Model(name='structural_model')\n",
    "\n",
    "print(model)"
   ],
   "outputs": [
    {
     "output_type": "stream",
     "name": "stdout",
     "text": [
      "\n",
      "compas_fea2 Model object\n",
      "------------------------\n",
      "name            : structural_model\n",
      "# of parts      : 0\n",
      "# of instances  : 0\n"
     ]
    }
   ],
   "metadata": {
    "tags": []
   }
  },
  {
   "cell_type": "markdown",
   "source": [
    "### Parts\n",
    "\n",
    "`Parts` are subregions of the model that can be considered to be independent from each other. However, similar parts of a model can still be modelled as different `Parts`. \n",
    "\n",
    "A good example of a `Part` could be a brick. "
   ],
   "metadata": {}
  },
  {
   "cell_type": "code",
   "execution_count": 3,
   "source": [
    "model.add_part(Part(name='part-1'))\n",
    "\n",
    "print(model.parts['part-1'])"
   ],
   "outputs": [
    {
     "output_type": "stream",
     "name": "stdout",
     "text": [
      "\n",
      "compas_fea2 Part object\n",
      "-----------------------\n",
      "name            : part-1\n",
      "# of nodes      : 0\n",
      "# of elements   : 0\n"
     ]
    }
   ],
   "metadata": {
    "tags": []
   }
  },
  {
   "cell_type": "markdown",
   "source": [
    "Nodes can be added to the `Part` or directly to the `Model` by specifying the name of the `Part` to which they belong.\n",
    "In this example, we want to create a simple rectangular frame with a node on each side of the frame every 100mm."
   ],
   "metadata": {}
  },
  {
   "cell_type": "code",
   "execution_count": 4,
   "source": [
    "for x in range(0, 1100, 100):\n",
    "    model.add_node(Node(xyz=[x, 0.0, 0.0]), part='part-1')\n",
    "for y in range(100, 600, 100):\n",
    "    model.add_node(Node(xyz=[x, y, 0.0]), part='part-1')\n",
    "for x in range(900, -100, -100):\n",
    "    model.add_node(Node(xyz=[x, y, 0.0]), part='part-1')\n",
    "for y in range(400, 0, -100):\n",
    "    model.add_node(Node(xyz=[x, y, 0.0]), part='part-1')\n",
    "\n",
    "print(model.parts['part-1'].nodes[5])"
   ],
   "outputs": [
    {
     "output_type": "stream",
     "name": "stdout",
     "text": [
      "\n",
      "compas_fea2 Node object\n",
      "-----------------------\n",
      "label      : n-5\n",
      "key        : 5\n",
      "x          : 500.0\n",
      "y          : 0.0\n",
      "z          : 0.0\n",
      "ex         : None\n",
      "ey         : None\n",
      "ez         : None\n",
      "mass       : None\n"
     ]
    }
   ],
   "metadata": {
    "tags": []
   }
  },
  {
   "cell_type": "markdown",
   "source": [
    "We can now add the material properties we plan to use in our analysis. These material will then be available in the 'Model' and can be used in the definition of the structural sections."
   ],
   "metadata": {}
  },
  {
   "cell_type": "code",
   "execution_count": 5,
   "source": [
    "# Define materials\n",
    "model.add_material(ElasticIsotropic(name='mat_A', E=29000, v=0.17, p=2.5e-9))\n",
    "model.add_material(ElasticIsotropic(name='mat_B', E=25000, v=0.17, p=2.5e-9))\n",
    "\n",
    "print(model.materials['mat_A'])"
   ],
   "outputs": [
    {
     "output_type": "stream",
     "name": "stdout",
     "text": [
      "\n",
      "compas_fea2 ElasticIsotropic object\n",
      "-----------------------------------\n",
      "name        : mat_A\n",
      "E           : {'E': 29000}\n",
      "v           : {'v': 0.17}\n",
      "G           : {'G': 12393.162393162394}\n",
      "p           : 2.5e-09\n"
     ]
    }
   ],
   "metadata": {
    "tags": []
   }
  },
  {
   "cell_type": "markdown",
   "source": [
    "`compas_fea2` uses the same convention as Abaqus where the materials are assigned to the section and not to the elements (sections are assigned to the elements).\n",
    "In the definition of a structural section you can specify a particular material by passing the material name. The structural properties are computed automatically accordingly to the type of section chosen (`BoxSection` in this case)"
   ],
   "metadata": {}
  },
  {
   "cell_type": "code",
   "execution_count": 6,
   "source": [
    "# Define sections\n",
    "model.add_section(BoxSection(name='section_A', material='mat_A', a=20, b=80, t1=5, t2=5, t3=5, t4=5))\n",
    "model.add_section(BoxSection(name='section_B', material='mat_B', a=20, b=80, t1=5, t2=5, t3=5, t4=5))\n",
    "\n",
    "print(model.sections['section_A'])"
   ],
   "outputs": [
    {
     "output_type": "stream",
     "name": "stdout",
     "text": [
      "\n",
      "compas_fea2 Section object\n",
      "--------------------------\n",
      "name  : section_A\n"
     ]
    }
   ],
   "metadata": {
    "tags": []
   }
  },
  {
   "cell_type": "markdown",
   "source": [
    "Structural elements are defined by their type, connectivity and associated section. In this case we use a `BeamElement`, so we need to specify the 2 nodes it is connected to, with the 'BoxSection' defined before.\n",
    "Elements can be added to the `model` one by one or as a list. "
   ],
   "metadata": {}
  },
  {
   "cell_type": "code",
   "execution_count": 7,
   "source": [
    "# Generate elements between nodes\r\n",
    "elements = []\r\n",
    "for e in range(len(model.parts['part-1'].nodes)-1):\r\n",
    "    elements.append((BeamElement(connectivity=[e, e+1], section='section_A')))\r\n",
    "model.add_elements(elements=elements, part='part-1')\r\n",
    "model.add_element(element=BeamElement(connectivity=[29, 0], section='section_B'), part='part-1')\r\n",
    "\r\n",
    "print(model.parts['part-1'].elements[15])\r\n"
   ],
   "outputs": [
    {
     "output_type": "stream",
     "name": "stdout",
     "text": [
      "\n",
      "compas_fea2 BeamElement object\n",
      "------------------------------\n",
      "key        : 15\n",
      "etype      : beam\n",
      "connectivity : [15, 16]\n"
     ]
    }
   ],
   "metadata": {
    "tags": []
   }
  },
  {
   "cell_type": "markdown",
   "source": [
    "A `Set` is a unique collection of either nodes or elements and it is used to assign loads or boundary conditions.\n",
    "In this case we defined two sets for the boundary conditions using node `0` and `10` and one for a point load at node `20`. "
   ],
   "metadata": {}
  },
  {
   "cell_type": "code",
   "execution_count": 8,
   "source": [
    "# Define sets for boundary conditions and loads\r\n",
    "model.add_instance_set(Set(name='fixed', selection=[0], stype='nset'), instance='part-1-1')\r\n",
    "model.add_instance_set(Set(name='roller', selection=[10], stype='nset'), instance='part-1-1')\r\n",
    "model.add_instance_set(Set(name='pload', selection=[20], stype='nset'), instance='part-1-1')"
   ],
   "outputs": [],
   "metadata": {}
  },
  {
   "cell_type": "code",
   "execution_count": 9,
   "source": [
    "print(model)"
   ],
   "outputs": [
    {
     "output_type": "stream",
     "name": "stdout",
     "text": [
      "\n",
      "compas_fea2 Model object\n",
      "------------------------\n",
      "name            : structural_model\n",
      "# of parts      : 1\n",
      "# of instances  : 1\n"
     ]
    }
   ],
   "metadata": {
    "tags": []
   }
  },
  {
   "cell_type": "markdown",
   "source": [
    "## Problem definition\n",
    "The second part of the FEA is to define the `Problem` to be solved. To define a `Problem` you need a `Model`, boundary conditions (`bcs`), `laods`, field and history `outputs` and analysis 'steps'.  "
   ],
   "metadata": {}
  },
  {
   "cell_type": "code",
   "execution_count": 10,
   "source": [
    "\r\n",
    "# Create the Problem object\r\n",
    "problem = Problem(name='test_structure', model=model)\r\n",
    "\r\n",
    "# Assign boundary conditions to the node stes\r\n",
    "problem.add_bcs(bcs=[RollerDisplacementXZ(name='bc_roller', bset='roller'),\r\n",
    "                        FixedDisplacement(name='bc_fix', bset='fixed')])\r\n",
    "\r\n",
    "# Assign a point load to the node set\r\n",
    "problem.add_load(load=PointLoad(name='pload', lset='pload', y=-1000))\r\n",
    "\r\n",
    "# Define the field outputs required\r\n",
    "problem.add_field_output(fout=FieldOutput(name='fout'))\r\n",
    "\r\n",
    "# Define the analysis step\r\n",
    "problem.add_step(step=GeneralStaticStep(name='gstep', loads=['pload'], field_outputs=['fout']))\r\n",
    "\r\n",
    "print(problem)\r\n"
   ],
   "outputs": [
    {
     "output_type": "stream",
     "name": "stdout",
     "text": [
      "\n",
      "++++++++++++++++++++++++++++++++++++++++++++++++++++++++++++++++++++++++++++++++\n",
      "compas_fea2 Problem: test_structure\n",
      "++++++++++++++++++++++++++++++++++++++++++++++++++++++++++++++++++++++++++++++++\n",
      "\n",
      "Boundary Conditions\n",
      "-------------------\n",
      "  bc_roller : RollerDisplacementXZ\n",
      "  bc_fix : FixedDisplacement\n",
      "\n",
      "Loads\n",
      "-----\n",
      "  pload : PointLoad\n",
      "\n",
      "Steps\n",
      "-----\n",
      "  fout : FieldOutputRequst\n",
      "\n",
      "Steps Order\n",
      "-----------\n",
      "  standard : FieldOutputRequst\n",
      "\n",
      "Field Output Requests\n",
      "---------------------\n",
      "  standard : FieldOutputRequst\n",
      "\n",
      "History Output Requests\n",
      "-----------------------\n",
      "  standard : FieldOutputRequst\n",
      "\n",
      "\n"
     ]
    }
   ],
   "metadata": {
    "tags": []
   }
  },
  {
   "cell_type": "markdown",
   "source": [
    "Once the `Probelm` is set, you can solve it running the analysis. You need to specify the location of the analysis files generated by Abaqus.\n",
    "The output log for now is limited to the one automatically generated by Abaqus, but the plan is to expand it to have more info about the status of the analysis, possible warnings or errors, etc. "
   ],
   "metadata": {}
  },
  {
   "cell_type": "code",
   "execution_count": 11,
   "source": [
    "# Solve the problem\r\n",
    "# my_structure.write_input_file(path='C:/temp/test_structure')\r\n",
    "problem.analyse(path='C:/temp/fea2_workshop')"
   ],
   "outputs": [
    {
     "output_type": "stream",
     "name": "stdout",
     "text": [
      "***** Input file generated in: C:/temp/fea2_workshop\\test_structure.inp *****\n",
      "\n",
      "b'Analysis initiated from SIMULIA established products'\n",
      "b'Abaqus JOB test_structure'\n",
      "b'Abaqus 3DEXPERIENCE R2019x'\n",
      "b'Begin Analysis Input File Processor'\n",
      "b'1/8/2021 3:56:41 PM'\n",
      "b'Run pre.exe'\n",
      "b'1/8/2021 3:56:46 PM'\n",
      "b'End Analysis Input File Processor'\n",
      "b'Begin Abaqus/Standard Analysis'\n",
      "b'1/8/2021 3:56:46 PM'\n",
      "b'Run standard.exe'\n",
      "b'1/8/2021 3:56:49 PM'\n",
      "b'End Abaqus/Standard Analysis'\n",
      "b'Begin Convert MFS to SFS'\n",
      "b'1/8/2021 3:56:51 PM'\n",
      "b'Run SMASimUtility.exe'\n",
      "b'1/8/2021 3:56:51 PM'\n",
      "b'End Convert MFS to SFS'\n",
      "b'Abaqus JOB test_structure COMPLETED'\n",
      "b''\n",
      "b'Abaqus License Manager checked out the following licenses:\\r\\nAbaqus/Standard checked out 5 tokens from Flexnet server lic-abaqus.ethz.ch.\\r\\n<302 out of 320 licenses remain available>.\\r\\n'\n",
      "***** Analysis successful - analysis time : 16.002654552459717 s *****\n"
     ]
    }
   ],
   "metadata": {
    "tags": []
   }
  },
  {
   "cell_type": "markdown",
   "source": [
    "## Results Visualization\n",
    "\n",
    "...not there yet... :)"
   ],
   "metadata": {}
  }
 ],
 "metadata": {
  "language_info": {
   "codemirror_mode": {
    "name": "ipython",
    "version": 3
   },
   "file_extension": ".py",
   "mimetype": "text/x-python",
   "name": "python",
   "nbconvert_exporter": "python",
   "pygments_lexer": "ipython3",
   "version": "3.8.6-final"
  },
  "orig_nbformat": 2,
  "kernelspec": {
   "name": "python3",
   "display_name": "Python 3.8.6 64-bit ('fea2': conda)",
   "metadata": {
    "interpreter": {
     "hash": "31fc3f2b9c79b173e1d3c1022cbd1fc35c20eb62aa0381d417cbb023940773e7"
    }
   }
  }
 },
 "nbformat": 4,
 "nbformat_minor": 2
}