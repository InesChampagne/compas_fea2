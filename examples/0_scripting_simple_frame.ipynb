{
 "cells": [
  {
   "cell_type": "markdown",
   "metadata": {},
   "source": [
    "# compas_fea2 simple script approach\n",
    "\n",
    "This example covers the analysis of a simple 2D frame structure generated completely from scratch. \n",
    "\n",
    "### NOTE: This example is in SI (m, kg, s)"
   ]
  },
  {
   "cell_type": "code",
   "execution_count": 1,
   "metadata": {},
   "outputs": [],
   "source": [
    "from pathlib import Path\n",
    "from pprint import pprint\n",
    "\n",
    "from compas_fea2.backends.abaqus import Model\n",
    "from compas_fea2.backends.abaqus import Part\n",
    "from compas_fea2.backends.abaqus import Node\n",
    "from compas_fea2.backends.abaqus import ElasticIsotropic\n",
    "from compas_fea2.backends.abaqus import BoxSection\n",
    "from compas_fea2.backends.abaqus import BeamElement\n",
    "\n",
    "from compas_fea2.backends.abaqus import Problem\n",
    "from compas_fea2.backends.abaqus import GeneralStaticStep\n",
    "\n",
    "from compas_fea2.backends.abaqus import Results\n",
    "\n",
    "from compas_fea2 import TEMP"
   ]
  },
  {
   "cell_type": "markdown",
   "metadata": {},
   "source": [
    "## Model generation\n",
    "\n",
    "The fist step (of an FEA) is the generation of the analysis `model`. \n",
    "A model is always composed by:\n",
    "\n",
    "1) geometry: nodes, connectivity among nodes, parts in which nodes and elements are groups, etc.\n",
    "The geometry can either be created from scratch (as in this example) or be imported from other datastructures (networks, meshes, etc).\n",
    "\n",
    "2) properties:  materials, sections, elements, interactions, etc. Properties are applied to the geometry to simulate the mechanical behaviour. \n",
    "\n",
    "In a compas workflow, geometry and properties are provided by the compas_package that creates the structure to analyse. \n"
   ]
  },
  {
   "cell_type": "code",
   "execution_count": 2,
   "metadata": {
    "tags": []
   },
   "outputs": [
    {
     "name": "stdout",
     "output_type": "stream",
     "text": [
      "\n",
      "compas_fea2 Model object\n",
      "------------------------\n",
      "author          : None\n",
      "bcs             : {}\n",
      "constraints     : {}\n",
      "contacts        : {}\n",
      "description     : None\n",
      "dtype           : 'compas_fea2.backends/Model'\n",
      "interactions    : {}\n",
      "materials       : {}\n",
      "name            : 'structural_model'\n",
      "parts           : {}\n",
      "parts_groups    : {}\n",
      "sections        : {}\n",
      "surfaces        : {}\n",
      "\n"
     ]
    }
   ],
   "source": [
    "model = Model(name='structural_model')\n",
    "\n",
    "print(model)"
   ]
  },
  {
   "cell_type": "markdown",
   "metadata": {},
   "source": [
    "### Parts\n",
    "\n",
    "`Parts` are subregions of the model that can be considered to be independent from each other. However, similar parts of a model can still be modelled as different `Parts`. \n",
    "\n",
    "A good example of a `Part` could be a brick. "
   ]
  },
  {
   "cell_type": "code",
   "execution_count": 3,
   "metadata": {
    "tags": []
   },
   "outputs": [
    {
     "name": "stdout",
     "output_type": "stream",
     "text": [
      "\n",
      "compas_fea2 Part object\n",
      "-----------------------\n",
      "dtype           : 'compas_fea2.backends/Part'\n",
      "elements        : {}\n",
      "groups          : {}\n",
      "materials       : {}\n",
      "name            : 'frame'\n",
      "nodes           : []\n",
      "releases        : {}\n",
      "sections        : {}\n",
      "\n"
     ]
    }
   ],
   "source": [
    "model.add_part(Part(name='frame'))\n",
    "print(model.parts['frame'])"
   ]
  },
  {
   "cell_type": "markdown",
   "metadata": {},
   "source": [
    "Nodes can be added to the `Part` or directly to the `Model` by specifying the name of the `Part` to which they belong.\n",
    "In this example, we want to create a simple rectangular frame with a node on each side of the frame every 100mm."
   ]
  },
  {
   "cell_type": "code",
   "execution_count": 4,
   "metadata": {
    "tags": []
   },
   "outputs": [
    {
     "name": "stdout",
     "output_type": "stream",
     "text": [
      "\n",
      "compas_fea2 Node object\n",
      "-----------------------\n",
      "dtype           : 'compas_fea2.backends/Node'\n",
      "ex              : None\n",
      "ey              : None\n",
      "ez              : None\n",
      "gkey            : '5.000,0.000,0.000'\n",
      "key             : 5\n",
      "mass            : None\n",
      "name            : 'n-5'\n",
      "x               : 5.0\n",
      "xyz             : [5.0, 0.0, 0.0]\n",
      "y               : 0.0\n",
      "z               : 0.0\n",
      "\n"
     ]
    }
   ],
   "source": [
    "for x in range(0, 11, 1):\n",
    "    model.add_node(Node(xyz=[x, 0.0, 0.0]), part='frame')\n",
    "for y in range(1, 6, 1):\n",
    "    model.add_node(Node(xyz=[x, y, 0.0]), part='frame')\n",
    "for x in range(9, -1, -1):\n",
    "    model.add_node(Node(xyz=[x, y, 0.0]), part='frame')\n",
    "for y in range(4, 0, -1):\n",
    "    model.add_node(Node(xyz=[x, y, 0.0]), part='frame')\n",
    "\n",
    "print(model.parts['frame'].nodes[5])"
   ]
  },
  {
   "cell_type": "markdown",
   "metadata": {},
   "source": [
    "We can now add the material properties we plan to use in our analysis. These material will then be available in the 'Model' and can be used in the definition of the structural sections."
   ]
  },
  {
   "cell_type": "code",
   "execution_count": 5,
   "metadata": {
    "tags": []
   },
   "outputs": [
    {
     "name": "stdout",
     "output_type": "stream",
     "text": [
      "\n",
      "compas_fea2 ElasticIsotropic object\n",
      "-----------------------------------\n",
      "E               : 2610\n",
      "G               : 1115.3846153846155\n",
      "dtype           : 'compas_fea2.backends/ElasticIsotropic'\n",
      "name            : 'mat_A'\n",
      "p               : 2500\n",
      "unilateral      : None\n",
      "v               : 0.17\n",
      "\n"
     ]
    }
   ],
   "source": [
    "# Define materials\n",
    "model.add_material(ElasticIsotropic(name='mat_A', E=29*10*9, v=0.17, p=2500))\n",
    "print(model.materials['mat_A'])"
   ]
  },
  {
   "cell_type": "markdown",
   "metadata": {},
   "source": [
    "`compas_fea2` uses the same convention as Abaqus where the materials are assigned to the section and not to the elements (sections are assigned to the elements).\n",
    "In the definition of a structural section you can specify a particular material by passing the material name. The structural properties are computed automatically accordingly to the type of section chosen (`BoxSection` in this case)"
   ]
  },
  {
   "cell_type": "code",
   "execution_count": 6,
   "metadata": {
    "tags": []
   },
   "outputs": [
    {
     "name": "stdout",
     "output_type": "stream",
     "text": [
      "\n",
      "compas_fea2 BoxSection object\n",
      "-----------------------------\n",
      "A               : 0.019600000000000006\n",
      "Avx             : 0.0\n",
      "Avy             : 0.0\n",
      "Ixx             : 0.0014150533333333343\n",
      "Ixy             : 0.0\n",
      "Iyy             : 0.0001542533333333333\n",
      "J               : 0.00045979612244897967\n",
      "dtype           : 'compas_fea2.backends/BoxSection'\n",
      "g0              : 0.0\n",
      "guid            : UUID('f1d08d81-7521-4501-821f-453871664cd4')\n",
      "gw              : 0.0\n",
      "material        : ElasticIsotropic(mat_A)\n",
      "name            : 'section_A'\n",
      "properties      : [0.2, 0.8, 0.01, 0.01, 0.01, 0.01]\n",
      "stype           : 'box'\n",
      "\n"
     ]
    }
   ],
   "source": [
    "# Define sections\n",
    "model.add_section(BoxSection(name='section_A', material='mat_A', b=0.20, h=0.80, t=0.01))\n",
    "\n",
    "print(model.sections['section_A'])"
   ]
  },
  {
   "cell_type": "markdown",
   "metadata": {},
   "source": [
    "Structural elements are defined by their type, connectivity and associated section. In this case we use a `BeamElement`, so we need to specify the 2 nodes it is connected to, with the 'BoxSection' defined before.\n",
    "Elements can be added to the `model` one by one or as a list. "
   ]
  },
  {
   "cell_type": "code",
   "execution_count": 7,
   "metadata": {
    "tags": []
   },
   "outputs": [
    {
     "name": "stdout",
     "output_type": "stream",
     "text": [
      "\n",
      "compas_fea2 BeamElement object\n",
      "------------------------------\n",
      "axes            : None\n",
      "connectivity    : [0, 1]\n",
      "connectivity_key : '0_1'\n",
      "dtype           : 'compas_fea2.backends/BeamElement'\n",
      "eltype          : 'B31'\n",
      "key             : 0\n",
      "name            : 'None'\n",
      "orientation     : [0.0, 0.0, -1.0]\n",
      "section         : BoxSection(section_A)\n",
      "thermal         : None\n",
      "\n"
     ]
    }
   ],
   "source": [
    "# Generate elements between nodes\n",
    "elements = []\n",
    "for e in range(len(model.parts['frame'].nodes)-1):\n",
    "    elements.append(BeamElement(connectivity=[e, e+1], section='section_A'))\n",
    "elements.append(BeamElement(connectivity=[len(model.parts['frame'].nodes)-1, 0], section='section_A'))\n",
    "model.add_elements(elements=elements, part='frame')\n",
    "\n",
    "print(model.parts['frame'].elements[0])\n"
   ]
  },
  {
   "cell_type": "markdown",
   "metadata": {},
   "source": [
    "## Initial Boundary Conditions"
   ]
  },
  {
   "cell_type": "code",
   "execution_count": 8,
   "metadata": {},
   "outputs": [
    {
     "name": "stdout",
     "output_type": "stream",
     "text": [
      "{'frame': {FixedBC(fixed): [0], RollerBCXZ(roller): [10]}}\n"
     ]
    }
   ],
   "source": [
    "# Assign boundary conditions to the node stes\n",
    "model.add_fix_bc('fixed', 'frame', [0])\n",
    "model.add_rollerXZ_bc('roller', 'frame', [10])\n",
    "\n",
    "print(model.bcs)"
   ]
  },
  {
   "cell_type": "code",
   "execution_count": 9,
   "metadata": {},
   "outputs": [
    {
     "name": "stdout",
     "output_type": "stream",
     "text": [
      "\n",
      "++++++++++++++++++++++++++++++++++++++++++++++++++++++++++++++++++++++++++++++++\n",
      "compas_fea2 Model: structural_model\n",
      "++++++++++++++++++++++++++++++++++++++++++++++++++++++++++++++++++++++++++++++++\n",
      "\n",
      "description: N/A\n",
      "author: N/A\n",
      "\n",
      "Parts\n",
      "-----\n",
      "frame\n",
      "    # of nodes: 30\n",
      "    # of elements: 30\n",
      "\n",
      "Materials\n",
      "---------\n",
      "ElasticIsotropic(mat_A)\n",
      "\n",
      "Sections\n",
      "--------\n",
      "BoxSection(section_A)\n",
      "\n",
      "Interactions\n",
      "------------\n",
      "\n",
      "\n",
      "Constraints\n",
      "-----------\n",
      "\n",
      "\n",
      "Boundary Conditions\n",
      "-------------------\n",
      "frame: {FixedBC(fixed): [0], RollerBCXZ(roller): [10]}\n",
      "\n"
     ]
    },
    {
     "data": {
      "text/plain": [
       "'\\n++++++++++++++++++++++++++++++++++++++++++++++++++++++++++++++++++++++++++++++++\\ncompas_fea2 Model: structural_model\\n++++++++++++++++++++++++++++++++++++++++++++++++++++++++++++++++++++++++++++++++\\n\\ndescription: N/A\\nauthor: N/A\\n\\nParts\\n-----\\nframe\\n    # of nodes: 30\\n    # of elements: 30\\n\\nMaterials\\n---------\\nElasticIsotropic(mat_A)\\n\\nSections\\n--------\\nBoxSection(section_A)\\n\\nInteractions\\n------------\\n\\n\\nConstraints\\n-----------\\n\\n\\nBoundary Conditions\\n-------------------\\nframe: {FixedBC(fixed): [0], RollerBCXZ(roller): [10]}\\n'"
      ]
     },
     "execution_count": 9,
     "metadata": {},
     "output_type": "execute_result"
    }
   ],
   "source": [
    "model.summary()"
   ]
  },
  {
   "cell_type": "markdown",
   "metadata": {},
   "source": [
    "## Problem definition\n",
    "The second part of the FEA is to define the `Problem` to be solved. To define a `Problem` you need a `Model`, boundary conditions (`bcs`), `laods`, field and history `outputs` and analysis 'steps'.  "
   ]
  },
  {
   "cell_type": "code",
   "execution_count": 10,
   "metadata": {
    "tags": []
   },
   "outputs": [
    {
     "name": "stdout",
     "output_type": "stream",
     "text": [
      "\n",
      "++++++++++++++++++++++++++++++++++++++++++++++++++++++++++++++++++++++++++++++++\n",
      "compas_fea2 Problem: test_structure\n",
      "++++++++++++++++++++++++++++++++++++++++++++++++++++++++++++++++++++++++++++++++\n",
      "\n",
      "description: Problem for Model(structural_model)\n",
      "author: N/A\n",
      "\n",
      "Steps (in order of application)\n",
      "-------------------------------\n",
      "step-1: GeneralStaticStep\n",
      "\n",
      "\n"
     ]
    },
    {
     "data": {
      "text/plain": [
       "'\\n++++++++++++++++++++++++++++++++++++++++++++++++++++++++++++++++++++++++++++++++\\ncompas_fea2 Problem: test_structure\\n++++++++++++++++++++++++++++++++++++++++++++++++++++++++++++++++++++++++++++++++\\n\\ndescription: Problem for Model(structural_model)\\nauthor: N/A\\n\\nSteps (in order of application)\\n-------------------------------\\nstep-1: GeneralStaticStep\\n\\n'"
      ]
     },
     "execution_count": 10,
     "metadata": {},
     "output_type": "execute_result"
    }
   ],
   "source": [
    "\n",
    "# Create the Problem object\n",
    "# Create the Problem object\n",
    "problem = Problem(name='test_structure', model=model)\n",
    "\n",
    "# Define the analysis step\n",
    "problem.add_step(GeneralStaticStep(name='step-1'))\n",
    "\n",
    "# Assign a point load to the node set\n",
    "problem.add_point_load(name='pload', step='step-1', part='frame', where=5, y=-10000)\n",
    "\n",
    "# Review\n",
    "problem.summary()"
   ]
  },
  {
   "cell_type": "markdown",
   "metadata": {},
   "source": [
    "Once the `Probelm` is set, you can solve it running the analysis. You need to specify the location of the analysis files generated by Abaqus.\n",
    "The output log for now is limited to the one automatically generated by Abaqus, but the plan is to expand it to have more info about the status of the analysis, possible warnings or errors, etc. "
   ]
  },
  {
   "cell_type": "code",
   "execution_count": 11,
   "metadata": {
    "tags": []
   },
   "outputs": [
    {
     "name": "stdout",
     "output_type": "stream",
     "text": [
      "***** Input File(test_structure) generated in: c:\\code\\myrepos\\from_compas\\fea2\\temp\\test_structure\\test_structure.inp *****\n",
      "\n",
      "Analysis initiated from SIMULIA established products\n",
      "Abaqus JOB test_structure\n",
      "Abaqus 2021\n",
      "Begin Analysis Input File Processor\n",
      "2/6/2022 3:36:50 PM\n",
      "Run pre.exe\n",
      "2/6/2022 3:36:54 PM\n",
      "End Analysis Input File Processor\n",
      "Begin Abaqus/Standard Analysis\n",
      "2/6/2022 3:36:54 PM\n",
      "Run standard.exe\n",
      "2/6/2022 3:36:57 PM\n",
      "End Abaqus/Standard Analysis\n",
      "Begin SIM Wrap-up\n",
      "2/6/2022 3:36:58 PM\n",
      "Run SMASimUtility.exe\n",
      "2/6/2022 3:36:59 PM\n",
      "End SIM Wrap-up\n",
      "Abaqus JOB test_structure COMPLETED\n",
      "\n",
      "Abaqus License Manager checked out the following licenses:\n",
      "Abaqus/Standard checked out 5 tokens from Flexnet server lic-abaqus.ethz.ch.\n",
      "<299 out of 320 licenses remain available>.\n",
      "\n",
      "***** Analysis successful - analysis time : 13.40173053741455 s *****\n"
     ]
    }
   ],
   "source": [
    "# # Solve the problem\n",
    "problem.analyse(path=Path(TEMP).joinpath(problem.name))"
   ]
  },
  {
   "cell_type": "markdown",
   "metadata": {},
   "source": [
    "## Results Visualization\n",
    "\n",
    "...not there yet... :)"
   ]
  },
  {
   "cell_type": "code",
   "execution_count": 12,
   "metadata": {},
   "outputs": [
    {
     "name": "stdout",
     "output_type": "stream",
     "text": [
      "\n",
      "Abaqus License Manager checked out the following license:\n",
      "\"cae_teaching\" from Flexnet server lic-abaqus.ethz.ch\n",
      "<37 out of 40 licenses remain available>.\n",
      "\n",
      "\n",
      "***** Data extracted from Abaqus .odb file : 5.398 s *****\n",
      "\n",
      "***** Data stored successfully : 0.008 s *****\n",
      "\n",
      "{'step-1': {'um': {0: 0.0,\n",
      "                   1: 2504.41748046875,\n",
      "                   2: 7618.1865234375,\n",
      "                   3: 13730.3486328125,\n",
      "                   4: 19229.890625,\n",
      "                   5: 22505.802734375,\n",
      "                   6: 21284.533203125,\n",
      "                   7: 17326.123046875,\n",
      "                   8: 11728.1884765625,\n",
      "                   9: 5589.2314453125,\n",
      "                   10: 210.8977813720703,\n",
      "                   11: 3382.796630859375,\n",
      "                   12: 5616.32763671875,\n",
      "                   13: 6781.89990234375,\n",
      "                   14: 7171.71826171875,\n",
      "                   15: 7077.98779296875,\n",
      "                   16: 7061.42041015625,\n",
      "                   17: 7062.0419921875,\n",
      "                   18: 7088.72998046875,\n",
      "                   19: 7137.771484375,\n",
      "                   20: 7190.853515625,\n",
      "                   21: 7219.48779296875,\n",
      "                   22: 7194.7060546875,\n",
      "                   23: 7101.74951171875,\n",
      "                   24: 6962.13623046875,\n",
      "                   25: 6867.091796875,\n",
      "                   26: 5270.30419921875,\n",
      "                   27: 3493.000244140625,\n",
      "                   28: 1827.3818359375,\n",
      "                   29: 565.652099609375},\n",
      "            'ux': {0: 0.0,\n",
      "                   1: 21.089778900146484,\n",
      "                   2: 42.17955780029297,\n",
      "                   3: 63.26933670043945,\n",
      "                   4: 84.35911560058594,\n",
      "                   5: 105.44889068603516,\n",
      "                   6: 126.5386734008789,\n",
      "                   7: 147.62844848632812,\n",
      "                   8: 168.71823120117188,\n",
      "                   9: 189.80801391601562,\n",
      "                   10: 210.8977813720703,\n",
      "                   11: -3382.793212890625,\n",
      "                   12: -5616.3193359375,\n",
      "                   13: -6781.88427734375,\n",
      "                   14: -7171.6923828125,\n",
      "                   15: -7077.947265625,\n",
      "                   16: -7056.857421875,\n",
      "                   17: -7035.767578125,\n",
      "                   18: -7014.67822265625,\n",
      "                   19: -6993.58837890625,\n",
      "                   20: -6972.49853515625,\n",
      "                   21: -6951.40869140625,\n",
      "                   22: -6930.31884765625,\n",
      "                   23: -6909.22900390625,\n",
      "                   24: -6888.13916015625,\n",
      "                   25: -6867.0498046875,\n",
      "                   26: -5270.26953125,\n",
      "                   27: -3492.970703125,\n",
      "                   28: -1827.356689453125,\n",
      "                   29: -565.6317749023438},\n",
      "            'uy': {0: -6.193361616323942e-33,\n",
      "                   1: -2504.32861328125,\n",
      "                   2: -7618.06982421875,\n",
      "                   3: -13730.203125,\n",
      "                   4: -19229.705078125,\n",
      "                   5: -22505.556640625,\n",
      "                   6: -21284.158203125,\n",
      "                   7: -17325.494140625,\n",
      "                   8: -11726.974609375,\n",
      "                   9: -5586.00732421875,\n",
      "                   10: -3.806638253756354e-33,\n",
      "                   11: 4.7929277420043945,\n",
      "                   12: 9.585855484008789,\n",
      "                   13: 14.378783226013184,\n",
      "                   14: 19.171710968017578,\n",
      "                   15: 23.96463966369629,\n",
      "                   16: 253.8206787109375,\n",
      "                   17: 608.6183471679688,\n",
      "                   18: 1021.9505004882812,\n",
      "                   19: 1427.4097900390625,\n",
      "                   20: 1758.5892333984375,\n",
      "                   21: 1949.08154296875,\n",
      "                   22: 1932.4794921875,\n",
      "                   23: 1642.3758544921875,\n",
      "                   24: 1012.3635864257812,\n",
      "                   25: -23.96463966369629,\n",
      "                   26: -19.171710968017578,\n",
      "                   27: -14.378783226013184,\n",
      "                   28: -9.585855484008789,\n",
      "                   29: -4.7929277420043945},\n",
      "            'uz': {0: 0.0,\n",
      "                   1: 1.16134505441165e-13,\n",
      "                   2: 4.146782201473742e-13,\n",
      "                   3: 7.915495515986581e-13,\n",
      "                   4: 1.1426670156952645e-12,\n",
      "                   5: 1.3639488843919523e-12,\n",
      "                   6: 1.398062546807688e-12,\n",
      "                   7: 1.281173084288767e-12,\n",
      "                   8: 1.096194749555801e-12,\n",
      "                   9: 9.26041361648533e-13,\n",
      "                   10: 8.536271732875744e-13,\n",
      "                   11: 1.0675820037026051e-12,\n",
      "                   12: 1.3420714192746708e-12,\n",
      "                   13: 1.664067429858751e-12,\n",
      "                   14: 2.0205425874109118e-12,\n",
      "                   15: 2.3984692270467844e-12,\n",
      "                   16: 2.434899937925339e-12,\n",
      "                   17: 2.420533391778168e-12,\n",
      "                   18: 2.357931558338855e-12,\n",
      "                   19: 2.2496557568196796e-12,\n",
      "                   20: 2.098268390635094e-12,\n",
      "                   21: 1.9063309958378127e-12,\n",
      "                   22: 1.676405216900767e-12,\n",
      "                   23: 1.4110530235575403e-12,\n",
      "                   24: 1.1128362771214984e-12,\n",
      "                   25: 7.843166220655728e-13,\n",
      "                   26: 5.738698361998362e-13,\n",
      "                   27: 3.6289368862338356e-13,\n",
      "                   28: 1.787092880362745e-13,\n",
      "                   29: 4.8637705869119044e-14}}}\n"
     ]
    }
   ],
   "source": [
    "##### --------------------- POSTPROCESS RESULTS -------------------------- #####\n",
    "results = Results.from_problem(problem, fields=['u'])\n",
    "pprint(results.nodal)"
   ]
  }
 ],
 "metadata": {
  "interpreter": {
   "hash": "31fc3f2b9c79b173e1d3c1022cbd1fc35c20eb62aa0381d417cbb023940773e7"
  },
  "kernelspec": {
   "display_name": "Python 3.8.6 64-bit ('fea2': conda)",
   "name": "python3"
  },
  "language_info": {
   "codemirror_mode": {
    "name": "ipython",
    "version": 3
   },
   "file_extension": ".py",
   "mimetype": "text/x-python",
   "name": "python",
   "nbconvert_exporter": "python",
   "pygments_lexer": "ipython3",
   "version": "3.9.7"
  },
  "orig_nbformat": 2
 },
 "nbformat": 4,
 "nbformat_minor": 2
}
