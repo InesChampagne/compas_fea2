{
 "cells": [
  {
   "cell_type": "markdown",
   "metadata": {},
   "source": [
    "# compas_fea2 simple script approach\n",
    "\n",
    "This example covers the analysis of a simple 2D frame structure generated completely from scratch. \n",
    "\n",
    "### NOTE: This example is in SI (m, kg, s)"
   ]
  },
  {
   "cell_type": "code",
   "execution_count": 1,
   "metadata": {},
   "outputs": [],
   "source": [
    "import compas_fea2\n",
    "\n",
    "from compas_fea2.model import Model, elements\n",
    "from compas_fea2.model import Part\n",
    "from compas_fea2.model import Node\n",
    "from compas_fea2.model import ElasticIsotropic, Steel\n",
    "from compas_fea2.model import CircularSection, RectangularSection, MembraneSection\n",
    "from compas_fea2.model import ShellSection\n",
    "from compas_fea2.model import BeamElement, MembraneElement, ShellElement\n",
    "from compas_fea2.model import RollerBCXY\n",
    "from compas_fea2.model import FixedBC, PinnedBC\n",
    "from compas_fea2.model import NodesGroup\n",
    "from compas_fea2.model import BeamEndPinRelease\n",
    "\n",
    "from compas_fea2.problem import Problem\n",
    "from compas_fea2.problem import PointLoad\n",
    "from compas_fea2.problem import GravityLoad\n",
    "from compas_fea2.problem import FieldOutput\n",
    "from compas_fea2.problem import StaticStep, ModalAnalysis\n",
    "from compas_fea2.problem import GeneralDisplacement\n",
    "\n",
    "from compas_fea2.results import Results\n",
    "from pathlib import Path\n",
    "from pprint import pprint\n",
    "\n",
    "from compas_fea2 import TEMP"
   ]
  },
  {
   "cell_type": "markdown",
   "metadata": {},
   "source": [
    "## Plug-in registration\n",
    "\n",
    "compas_fea2 implements a plug-in architecture. The compas_fea2 main package only defines the general API for a Finite Element Analysis, while the actual implementation in the a specific backend is done in the corresponding plug-in, whcih must registered and the beginning of the script. "
   ]
  },
  {
   "cell_type": "code",
   "execution_count": 2,
   "metadata": {},
   "outputs": [
    {
     "name": "stdout",
     "output_type": "stream",
     "text": [
      "Abaqus implementations registered...\n",
      "Opensees implementations registered...\n",
      "Ansys implementations registered...\n"
     ]
    }
   ],
   "source": [
    "compas_fea2.set_backend('abaqus')"
   ]
  },
  {
   "cell_type": "markdown",
   "metadata": {},
   "source": [
    "### Verbosity\n",
    "you can choose how much info you want to see by setting the `VERBOSE` property\n",
    "to `True`"
   ]
  },
  {
   "cell_type": "code",
   "execution_count": 3,
   "metadata": {},
   "outputs": [],
   "source": [
    "compas_fea2.config.VERBOSE = True"
   ]
  },
  {
   "cell_type": "markdown",
   "metadata": {},
   "source": [
    "## Model\n",
    "\n",
    "The fist step (of an FEA) is the generation of the analysis `model`. \n",
    "A model is always composed by:\n",
    "\n",
    "1) `Parts`:\n",
    "2) `Boundary Conditions`:\n",
    "\n",
    "it can als include:\n",
    "\n",
    "3) `Constraints` and `Interactions`:\n",
    "4) `Groups of Parts`:\n"
   ]
  },
  {
   "cell_type": "code",
   "execution_count": 4,
   "metadata": {
    "tags": []
   },
   "outputs": [],
   "source": [
    "model = Model()"
   ]
  },
  {
   "cell_type": "markdown",
   "metadata": {},
   "source": [
    "### Parts\n",
    "\n",
    "`Parts` are subregions of the model that can be considered to be independent from each other. However, similar parts of a model can still be modelled as different `Parts`. \n",
    "\n",
    "A good example of a `Part` could be a brick. "
   ]
  },
  {
   "cell_type": "code",
   "execution_count": 5,
   "metadata": {
    "tags": []
   },
   "outputs": [
    {
     "name": "stdout",
     "output_type": "stream",
     "text": [
      "AbaqusPart(1492754614016) registered to AbaqusModel(1492754614112).\n",
      "\n",
      "AbaqusPart\n",
      "----------\n",
      "name : AP_1492754614016\n",
      "\n",
      "number of elements : 0\n",
      "number of nodes    : 0\n",
      "number of groups   : 0\n",
      "\n"
     ]
    }
   ],
   "source": [
    "frame = model.add_part(Part())\n",
    "print(frame)"
   ]
  },
  {
   "cell_type": "markdown",
   "metadata": {},
   "source": [
    "Nodes are added to the `Part`. In this example, we want to create a simple  frame with 4 nodes at the base and 1 node at height of 5m."
   ]
  },
  {
   "cell_type": "code",
   "execution_count": 6,
   "metadata": {
    "tags": []
   },
   "outputs": [
    {
     "name": "stdout",
     "output_type": "stream",
     "text": [
      "AbaqusNode(1492754614736)\n"
     ]
    }
   ],
   "source": [
    "coordinates = [[0., 0., 5.], [5., -5., 0.], [5., 5., 0.], [-5., 5., 0.], [-5., -5., 0.]]\n",
    "nodes = [Node(xyz=node) for node in coordinates]\n",
    "\n",
    "print(nodes[0])"
   ]
  },
  {
   "cell_type": "markdown",
   "metadata": {},
   "source": [
    "We can now add the material properties we plan to use in our analysis. These material will then be available in the 'Model' and can be used in the definition of the structural sections."
   ]
  },
  {
   "cell_type": "code",
   "execution_count": 7,
   "metadata": {},
   "outputs": [],
   "source": [
    "mat = ElasticIsotropic(E=10*10**9, v=0.3, density=1000)"
   ]
  },
  {
   "cell_type": "markdown",
   "metadata": {},
   "source": [
    "`compas_fea2` uses the same convention as Abaqus where the materials are assigned to the section and not to the elements (sections are assigned to the elements).\n",
    "The structural properties of the section are computed automatically accordingly to the type of section chosen (`RectangularSection` in this case)"
   ]
  },
  {
   "cell_type": "code",
   "execution_count": 8,
   "metadata": {},
   "outputs": [],
   "source": [
    "frame_sec = RectangularSection(w=0.05, h=0.1, material=mat)"
   ]
  },
  {
   "cell_type": "markdown",
   "metadata": {},
   "source": [
    "Structural elements are defined by their type, connectivity and associated section. In this case we use a `BeamElement`, so we need to specify the 2 nodes it is connected to, with the 'BoxSection' defined before.\n",
    "Elements can be added to the `Part` one by one or as a list. "
   ]
  },
  {
   "cell_type": "code",
   "execution_count": 9,
   "metadata": {},
   "outputs": [
    {
     "name": "stdout",
     "output_type": "stream",
     "text": [
      "Node AbaqusNode(1492754614736) registered to AbaqusPart(1492754614016).\n",
      "Node AbaqusNode(1492754613200) registered to AbaqusPart(1492754614016).\n",
      "Element AbaqusBeamElement(1492660302752) registered to AbaqusPart(1492754614016).\n",
      "SKIPPED: Node AbaqusNode(1492754614736) already in part.\n",
      "Node AbaqusNode(1492754616128) registered to AbaqusPart(1492754614016).\n",
      "SKIPPED: Section AbaqusRectangularSection(1492754615552) already in part.\n",
      "Element AbaqusBeamElement(1492754614832) registered to AbaqusPart(1492754614016).\n",
      "SKIPPED: Node AbaqusNode(1492754614736) already in part.\n",
      "Node AbaqusNode(1492754613920) registered to AbaqusPart(1492754614016).\n",
      "SKIPPED: Section AbaqusRectangularSection(1492754615552) already in part.\n",
      "Element AbaqusBeamElement(1492660297840) registered to AbaqusPart(1492754614016).\n",
      "SKIPPED: Node AbaqusNode(1492754614736) already in part.\n",
      "Node AbaqusNode(1492660303136) registered to AbaqusPart(1492754614016).\n",
      "SKIPPED: Section AbaqusRectangularSection(1492754615552) already in part.\n",
      "Element AbaqusBeamElement(1492754686928) registered to AbaqusPart(1492754614016).\n"
     ]
    }
   ],
   "source": [
    "beams = [frame.add_element(BeamElement(nodes=[nodes[0], node], section=frame_sec)) for node in nodes[1:]]"
   ]
  },
  {
   "cell_type": "markdown",
   "metadata": {},
   "source": [
    "## Initial Boundary Conditions"
   ]
  },
  {
   "cell_type": "code",
   "execution_count": 10,
   "metadata": {},
   "outputs": [
    {
     "data": {
      "text/plain": [
       "[AbaqusFixedBC(1492754613824),\n",
       " AbaqusFixedBC(1492754613824),\n",
       " AbaqusFixedBC(1492754613824)]"
      ]
     },
     "execution_count": 10,
     "metadata": {},
     "output_type": "execute_result"
    }
   ],
   "source": [
    "model.add_pin_bc(node=nodes[1])\n",
    "model.add_bcs(bc=FixedBC(), nodes=nodes[2:])"
   ]
  },
  {
   "cell_type": "code",
   "execution_count": 11,
   "metadata": {},
   "outputs": [
    {
     "name": "stdout",
     "output_type": "stream",
     "text": [
      "\n",
      "++++++++++++++++++++++++++++++++++++++++++++++++++++++++++++++++++++++++++++++++\n",
      "compas_fea2 Model: AM_1492754614112\n",
      "++++++++++++++++++++++++++++++++++++++++++++++++++++++++++++++++++++++++++++++++\n",
      "\n",
      "description: N/A\n",
      "author: N/A\n",
      "\n",
      "Parts\n",
      "-----\n",
      "AP_1492754614016\n",
      "    # of nodes: 5\n",
      "    # of elements: 4\n",
      "\n",
      "Interactions\n",
      "------------\n",
      "N/A\n",
      "\n",
      "Constraints\n",
      "-----------\n",
      "N/A\n",
      "\n",
      "Boundary Conditions\n",
      "-------------------\n",
      "AP_1492754614016: \n",
      "  AbaqusPinnedBC(1492754616176) - [AbaqusNode(1492754613200)]\n",
      "  AbaqusFixedBC(1492754613824) - [AbaqusNode(1492754613920), AbaqusNode(1492754616128), AbaqusNode(1492660303136)]\n",
      "\n"
     ]
    },
    {
     "data": {
      "text/plain": [
       "'\\n++++++++++++++++++++++++++++++++++++++++++++++++++++++++++++++++++++++++++++++++\\ncompas_fea2 Model: AM_1492754614112\\n++++++++++++++++++++++++++++++++++++++++++++++++++++++++++++++++++++++++++++++++\\n\\ndescription: N/A\\nauthor: N/A\\n\\nParts\\n-----\\nAP_1492754614016\\n    # of nodes: 5\\n    # of elements: 4\\n\\nInteractions\\n------------\\nN/A\\n\\nConstraints\\n-----------\\nN/A\\n\\nBoundary Conditions\\n-------------------\\nAP_1492754614016: \\n  AbaqusPinnedBC(1492754616176) - [AbaqusNode(1492754613200)]\\n  AbaqusFixedBC(1492754613824) - [AbaqusNode(1492754613920), AbaqusNode(1492754616128), AbaqusNode(1492660303136)]\\n'"
      ]
     },
     "execution_count": 11,
     "metadata": {},
     "output_type": "execute_result"
    }
   ],
   "source": [
    "model.summary()"
   ]
  },
  {
   "cell_type": "markdown",
   "metadata": {},
   "source": [
    "## Problem definition\n",
    "The second part of the FEA is to define the `Problem` to be solved. To define a `Problem` you need a `Model` and the `Steps` in which the loads are applied.  "
   ]
  },
  {
   "cell_type": "code",
   "execution_count": 12,
   "metadata": {
    "tags": []
   },
   "outputs": [],
   "source": [
    "\n",
    "problem = Problem(model=model, name='test')"
   ]
  },
  {
   "cell_type": "code",
   "execution_count": 13,
   "metadata": {},
   "outputs": [],
   "source": [
    "step_0 = problem.add_step(StaticStep())\n",
    "step_0.add_gravity_load()\n",
    "\n",
    "step_1 = problem.add_step(StaticStep())\n",
    "step_1.add_point_load(x=1000, z=-1000, node=nodes[0])\n",
    "# # Define the field outputs required\n",
    "fout = step_1.add_output(FieldOutput())"
   ]
  },
  {
   "cell_type": "markdown",
   "metadata": {},
   "source": [
    "Once the `Probelm` is set, you can solve it running the analysis. You need to specify the location of the analysis files generated by Abaqus.\n",
    "The output log for now is limited to the one automatically generated by Abaqus, but the plan is to expand it to have more info about the status of the analysis, possible warnings or errors, etc. "
   ]
  },
  {
   "cell_type": "code",
   "execution_count": 14,
   "metadata": {
    "tags": []
   },
   "outputs": [
    {
     "name": "stdout",
     "output_type": "stream",
     "text": [
      "SKIPPED: Element AbaqusBeamElement(1492660302752) already in part.\n",
      "SKIPPED: Element AbaqusBeamElement(1492754614832) already in part.\n",
      "SKIPPED: Element AbaqusBeamElement(1492754686928) already in part.\n",
      "SKIPPED: Element AbaqusBeamElement(1492660297840) already in part.\n",
      "Model generated in  0.0014 secs\n",
      "Problem generated in  0.0002 secs\n",
      "Input file generated in: c:\\code\\myrepos\\from_compas\\fea2\\temp\\test\\test.inp\n",
      "Finished writing input file in 0.0115 secs\n",
      "Analysis initiated from SIMULIA established products\n",
      "Abaqus JOB test\n",
      "Abaqus 2021\n",
      "Begin Analysis Input File Processor\n",
      "5/4/2022 3:55:53 PM\n",
      "Run pre.exe\n",
      "5/4/2022 3:55:59 PM\n",
      "End Analysis Input File Processor\n",
      "Begin Abaqus/Standard Analysis\n",
      "5/4/2022 3:55:59 PM\n",
      "Run standard.exe\n",
      "5/4/2022 3:56:06 PM\n",
      "End Abaqus/Standard Analysis\n",
      "Begin SIM Wrap-up\n",
      "5/4/2022 3:56:08 PM\n",
      "Run SMASimUtility.exe\n",
      "5/4/2022 3:56:08 PM\n",
      "End SIM Wrap-up\n",
      "Abaqus JOB test COMPLETED\n",
      "\n",
      "Abaqus License Manager checked out the following licenses:\n",
      "Abaqus/Standard checked out 5 tokens from Flexnet server lic-abaqus.ethz.ch.\n",
      "<310 out of 320 licenses remain available>.\n",
      "\n",
      "***** Analysis successful *****\n",
      "Analysis completed in 23.4895 secs\n"
     ]
    }
   ],
   "source": [
    "# # Solve the problem\n",
    "problem.analyse(path=Path(TEMP).joinpath(problem.name))"
   ]
  },
  {
   "cell_type": "markdown",
   "metadata": {},
   "source": [
    "## Results Visualization\n",
    "\n",
    "...not there yet... :)"
   ]
  },
  {
   "cell_type": "code",
   "execution_count": 16,
   "metadata": {},
   "outputs": [
    {
     "name": "stdout",
     "output_type": "stream",
     "text": [
      "\n",
      "Abaqus License Manager checked out the following license:\n",
      "\"cae_teaching\" from Flexnet server lic-abaqus.ethz.ch\n",
      "<37 out of 40 licenses remain available>.\n",
      "\n",
      "Data stored successfully in c:\\code\\myrepos\\from_compas\\fea2\\temp\\test\\test-results.pkl\n",
      "Data stored successfully in c:\\code\\myrepos\\from_compas\\fea2\\temp\\test\\test-info.pkl\n",
      "{'ASS_1492660301936': {'cfm': {0: 1414.213623046875,\n",
      "                               1: 0.0,\n",
      "                               2: 0.0,\n",
      "                               3: 0.0,\n",
      "                               4: 0.0},\n",
      "                       'cfx': {0: 1000.0, 1: 0.0, 2: 0.0, 3: 0.0, 4: 0.0},\n",
      "                       'cfy': {0: 0.0, 1: 0.0, 2: 0.0, 3: 0.0, 4: 0.0},\n",
      "                       'cfz': {0: -1000.0, 1: 0.0, 2: 0.0, 3: 0.0, 4: 0.0},\n",
      "                       'cmm': {0: 0.0, 1: 0.0, 2: 0.0, 3: 0.0, 4: 0.0},\n",
      "                       'cmx': {0: 0.0, 1: 0.0, 2: 0.0, 3: 0.0, 4: 0.0},\n",
      "                       'cmy': {0: 0.0, 1: 0.0, 2: 0.0, 3: 0.0, 4: 0.0},\n",
      "                       'cmz': {0: 0.0, 1: 0.0, 2: 0.0, 3: 0.0, 4: 0.0},\n",
      "                       'rfm': {0: 0.0,\n",
      "                               1: 1367.4708251953125,\n",
      "                               2: 1367.4937744140625,\n",
      "                               3: 520.255859375,\n",
      "                               4: 520.2412719726562},\n",
      "                       'rfx': {0: 0.0,\n",
      "                               1: -712.3324584960938,\n",
      "                               2: -712.340576171875,\n",
      "                               3: 212.34254455566406,\n",
      "                               4: 212.3304443359375},\n",
      "                       'rfy': {0: 0.0,\n",
      "                               1: 712.325439453125,\n",
      "                               2: -712.3092041015625,\n",
      "                               3: -212.4015350341797,\n",
      "                               4: 212.38531494140625},\n",
      "                       'rfz': {0: 0.0,\n",
      "                               1: 924.7440185546875,\n",
      "                               2: 924.7842407226562,\n",
      "                               3: 424.8087158203125,\n",
      "                               4: 424.804931640625},\n",
      "                       'rmm': {0: 0.0,\n",
      "                               1: 0.0,\n",
      "                               2: 0.2774185836315155,\n",
      "                               3: 0.3007413446903229,\n",
      "                               4: 0.3121369481086731},\n",
      "                       'rmx': {0: 0.0,\n",
      "                               1: 0.0,\n",
      "                               2: -0.23662304878234863,\n",
      "                               3: -0.025165697559714317,\n",
      "                               4: 0.04175646975636482},\n",
      "                       'rmy': {0: 0.0,\n",
      "                               1: 0.0,\n",
      "                               2: 0.0676800087094307,\n",
      "                               3: -0.2364097237586975,\n",
      "                               4: -0.25848647952079773},\n",
      "                       'rmz': {0: 0.0,\n",
      "                               1: 0.0,\n",
      "                               2: -0.12802349030971527,\n",
      "                               3: -0.18418057262897491,\n",
      "                               4: 0.16991356015205383},\n",
      "                       'um': {0: 0.0002731161657720804,\n",
      "                              1: 0.0,\n",
      "                              2: 0.0,\n",
      "                              3: 0.0,\n",
      "                              4: 0.0},\n",
      "                       'urm': {0: 2.9925482522230595e-05,\n",
      "                               1: 4.534560503088869e-05,\n",
      "                               2: 0.0,\n",
      "                               3: 0.0,\n",
      "                               4: 0.0},\n",
      "                       'urx': {0: 5.4994161473587155e-06,\n",
      "                               1: -4.269010969437659e-05,\n",
      "                               2: 2.3662305689890975e-37,\n",
      "                               3: 2.5165697715652026e-38,\n",
      "                               4: -4.175647177751513e-38},\n",
      "                       'ury': {0: 2.9322571208467707e-05,\n",
      "                               1: -1.5235187674988993e-05,\n",
      "                               2: -6.768000851825559e-38,\n",
      "                               3: 2.3640972322070094e-37,\n",
      "                               4: 2.5848649669248784e-37},\n",
      "                       'urz': {0: 2.340452283533523e-06,\n",
      "                               1: -1.2913161526739714e-06,\n",
      "                               2: 1.2802349090056931e-37,\n",
      "                               3: 1.841805604895495e-37,\n",
      "                               4: -1.6991354846068853e-37},\n",
      "                       'ux': {0: 0.00012989352399017662,\n",
      "                              1: 4.9995574716196584e-34,\n",
      "                              2: 4.999754458758917e-34,\n",
      "                              3: 2.6547218253451363e-38,\n",
      "                              4: 4.2295259826660307e-38},\n",
      "                       'uy': {0: 2.7807258717871264e-09,\n",
      "                              1: -4.9994872174650976e-34,\n",
      "                              2: 4.9993650762552074e-34,\n",
      "                              3: 3.2448108507498597e-38,\n",
      "                              4: -2.0194405040763983e-38},\n",
      "                       'uz': {0: -0.00024025009770411998,\n",
      "                              1: -4.999677316942145e-34,\n",
      "                              2: -4.99994777247833e-34,\n",
      "                              3: -2.19776638353006e-38,\n",
      "                              4: -1.5498373627118656e-38}},\n",
      " 'ASS_1492754614784': {'rfm': {0: 0.0,\n",
      "                               1: 520.2332153320312,\n",
      "                               2: 520.2376098632812,\n",
      "                               3: 520.235595703125,\n",
      "                               4: 520.2376098632812},\n",
      "                       'rfx': {0: 0.0,\n",
      "                               1: -212.376708984375,\n",
      "                               2: -212.36512756347656,\n",
      "                               3: 212.3690948486328,\n",
      "                               4: 212.37274169921875},\n",
      "                       'rfy': {0: 0.0,\n",
      "                               1: 212.376708984375,\n",
      "                               2: -212.37274169921875,\n",
      "                               3: -212.3690948486328,\n",
      "                               4: 212.36512756347656},\n",
      "                       'rfz': {0: 0.0,\n",
      "                               1: 424.7762451171875,\n",
      "                               2: 424.7894287109375,\n",
      "                               3: 424.7867431640625,\n",
      "                               4: 424.7894287109375},\n",
      "                       'rmm': {0: 0.0,\n",
      "                               1: 0.0,\n",
      "                               2: 0.09972760826349258,\n",
      "                               3: 0.09064958989620209,\n",
      "                               4: 0.09972760826349258},\n",
      "                       'rmx': {0: 0.0,\n",
      "                               1: 0.0,\n",
      "                               2: -0.06360051780939102,\n",
      "                               3: -0.06409893929958344,\n",
      "                               4: 0.07524362951517105},\n",
      "                       'rmy': {0: 0.0,\n",
      "                               1: 0.0,\n",
      "                               2: 0.07524362951517105,\n",
      "                               3: -0.06409893929958344,\n",
      "                               4: -0.06360051780939102},\n",
      "                       'rmz': {0: 0.0,\n",
      "                               1: 0.0,\n",
      "                               2: 0.015458529815077782,\n",
      "                               3: 1.1681760659642301e-15,\n",
      "                               4: -0.015458529815077782},\n",
      "                       'um': {0: 0.00011035494389943779,\n",
      "                              1: 0.0,\n",
      "                              2: 0.0,\n",
      "                              3: 0.0,\n",
      "                              4: 0.0},\n",
      "                       'urm': {0: 2.1415710307337577e-06,\n",
      "                               1: 1.785293898137752e-05,\n",
      "                               2: 0.0,\n",
      "                               3: 0.0,\n",
      "                               4: 0.0},\n",
      "                       'urx': {0: 1.5143193650146713e-06,\n",
      "                               1: -1.2623934708244633e-05,\n",
      "                               2: 6.360051479775004e-38,\n",
      "                               3: 6.40989398459288e-38,\n",
      "                               4: -7.524362908332594e-38},\n",
      "                       'ury': {0: 1.5143193650146713e-06,\n",
      "                               1: -1.2623934708244633e-05,\n",
      "                               2: -7.524362908332594e-38,\n",
      "                               3: 6.40989398459288e-38,\n",
      "                               4: 6.360051479775004e-38},\n",
      "                       'urz': {0: 8.920076618876034e-20,\n",
      "                               1: -7.237450373745101e-20,\n",
      "                               2: -1.5458529106584044e-38,\n",
      "                               3: -0.0,\n",
      "                               4: 1.5458529106584044e-38},\n",
      "                       'ux': {0: 2.0541948697605505e-10,\n",
      "                              1: 2.123767021163069e-34,\n",
      "                              2: 2.12365130843791e-34,\n",
      "                              3: -2.1236910272899985e-34,\n",
      "                              4: -2.123727302310981e-34},\n",
      "                       'uy': {0: -2.0541948697605505e-10,\n",
      "                              1: -2.123767021163069e-34,\n",
      "                              2: 2.123727302310981e-34,\n",
      "                              3: 2.1236910272899985e-34,\n",
      "                              4: -2.12365130843791e-34},\n",
      "                       'uz': {0: -0.00011035494389943779,\n",
      "                              1: -2.1238352090189665e-34,\n",
      "                              2: -2.1239669929559532e-34,\n",
      "                              3: -2.123940131073327e-34,\n",
      "                              4: -2.1239669929559532e-34}}}\n"
     ]
    }
   ],
   "source": [
    "##### --------------------- POSTPROCESS RESULTS -------------------------- #####\n",
    "results = Results.from_problem(problem)\n",
    "pprint(results.nodal)"
   ]
  }
 ],
 "metadata": {
  "interpreter": {
   "hash": "31fc3f2b9c79b173e1d3c1022cbd1fc35c20eb62aa0381d417cbb023940773e7"
  },
  "kernelspec": {
   "display_name": "Python 3.8.6 64-bit ('fea2': conda)",
   "name": "python3"
  },
  "language_info": {
   "codemirror_mode": {
    "name": "ipython",
    "version": 3
   },
   "file_extension": ".py",
   "mimetype": "text/x-python",
   "name": "python",
   "nbconvert_exporter": "python",
   "pygments_lexer": "ipython3",
   "version": "3.9.7"
  },
  "orig_nbformat": 2
 },
 "nbformat": 4,
 "nbformat_minor": 2
}
