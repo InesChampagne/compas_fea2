{
 "cells": [
  {
   "cell_type": "markdown",
   "source": [
    "# compas_fea2 simple script approach\n",
    "\n",
    "This example covers the analysis of a simple 2D frame structure generated completely from scratch. "
   ],
   "metadata": {}
  },
  {
   "cell_type": "code",
   "execution_count": 1,
   "source": [
    "from compas_fea2.backends.abaqus.model import Model\r\n",
    "from compas_fea2.backends.abaqus.model import Part\r\n",
    "from compas_fea2.backends.abaqus.model import Node\r\n",
    "from compas_fea2.backends.abaqus.model import ElasticIsotropic\r\n",
    "from compas_fea2.backends.abaqus.model import BoxSection\r\n",
    "from compas_fea2.backends.abaqus.model import BeamElement\r\n",
    "from compas_fea2.backends.abaqus.model import Set\r\n",
    "\r\n",
    "from compas_fea2.backends.abaqus.problem import Problem\r\n",
    "from compas_fea2.backends.abaqus.problem import FixedDisplacement\r\n",
    "from compas_fea2.backends.abaqus.problem import RollerDisplacementXZ\r\n",
    "from compas_fea2.backends.abaqus.problem import PointLoad\r\n",
    "from compas_fea2.backends.abaqus.problem import FieldOutput\r\n",
    "from compas_fea2.backends.abaqus.problem import GeneralStaticStep"
   ],
   "outputs": [],
   "metadata": {}
  },
  {
   "cell_type": "markdown",
   "source": [
    "## Model generation\n",
    "\n",
    "The fist step (of an FEA) is the generation of the analysis `model`. \n",
    "A model is always composed by:\n",
    "\n",
    "1) geometry: nodes, connectivity among nodes, parts in which nodes and elements are groups, etc.\n",
    "The geometry can either be created from scratch (as in this example) or be imported from other datastructures (networks, meshes, etc).\n",
    "\n",
    "2) properties:  materials, sections, elements, interactions, etc. Properties are applied to the geometry to simulate the mechanical behaviour. \n",
    "\n",
    "In a compas workflow, geometry and properties are provided by the compas_package that creates the structure to analyse. \n"
   ],
   "metadata": {}
  },
  {
   "cell_type": "code",
   "execution_count": 2,
   "source": [
    "model = Model(name='structural_model')\r\n",
    "\r\n",
    "print(model)"
   ],
   "outputs": [
    {
     "output_type": "stream",
     "name": "stdout",
     "text": [
      "\n",
      "compas_fea2 Model object\n",
      "------------------------\n",
      "description     : None\n",
      "dtype           : compas_fea2.backends/Model\n",
      "elements        : {}\n",
      "instances       : {}\n",
      "interactions    : []\n",
      "materials       : {}\n",
      "name            : structural_model\n",
      "nodes           : {}\n",
      "parts           : {}\n",
      "releases        : []\n",
      "sections        : {}\n",
      "sets            : {}\n",
      "surfaces        : []\n",
      "\n"
     ]
    }
   ],
   "metadata": {
    "tags": []
   }
  },
  {
   "cell_type": "markdown",
   "source": [
    "### Parts\n",
    "\n",
    "`Parts` are subregions of the model that can be considered to be independent from each other. However, similar parts of a model can still be modelled as different `Parts`. \n",
    "\n",
    "A good example of a `Part` could be a brick. "
   ],
   "metadata": {}
  },
  {
   "cell_type": "code",
   "execution_count": 3,
   "source": [
    "model.add_part(Part(name='part-1'))\r\n",
    "\r\n",
    "print(model.parts['part-1'])"
   ],
   "outputs": [
    {
     "output_type": "stream",
     "name": "stdout",
     "text": [
      "\n",
      "compas_fea2 Part object\n",
      "-----------------------\n",
      "dtype           : compas_fea2.backends/Part\n",
      "elements        : []\n",
      "elsets          : []\n",
      "materials       : {}\n",
      "name            : part-1\n",
      "nodes           : []\n",
      "nsets           : []\n",
      "releases        : []\n",
      "sections        : {}\n",
      "\n"
     ]
    }
   ],
   "metadata": {
    "tags": []
   }
  },
  {
   "cell_type": "markdown",
   "source": [
    "Nodes can be added to the `Part` or directly to the `Model` by specifying the name of the `Part` to which they belong.\n",
    "In this example, we want to create a simple rectangular frame with a node on each side of the frame every 100mm."
   ],
   "metadata": {}
  },
  {
   "cell_type": "code",
   "execution_count": 4,
   "source": [
    "for x in range(0, 1100, 100):\r\n",
    "    model.add_node(Node(xyz=[x, 0.0, 0.0]), part='part-1')\r\n",
    "for y in range(100, 600, 100):\r\n",
    "    model.add_node(Node(xyz=[x, y, 0.0]), part='part-1')\r\n",
    "for x in range(900, -100, -100):\r\n",
    "    model.add_node(Node(xyz=[x, y, 0.0]), part='part-1')\r\n",
    "for y in range(400, 0, -100):\r\n",
    "    model.add_node(Node(xyz=[x, y, 0.0]), part='part-1')\r\n",
    "\r\n",
    "print(model.parts['part-1'].nodes[5])"
   ],
   "outputs": [
    {
     "output_type": "stream",
     "name": "stdout",
     "text": [
      "\n",
      "compas_fea2 Node object\n",
      "-----------------------\n",
      "dtype           : compas_fea2.backends/Node\n",
      "ex              : None\n",
      "ey              : None\n",
      "ez              : None\n",
      "gkey            : 500.000,0.000,0.000\n",
      "key             : 5\n",
      "label           : n-5\n",
      "mass            : None\n",
      "x               : 500.0\n",
      "xyz             : [500.0, 0.0, 0.0]\n",
      "y               : 0.0\n",
      "z               : 0.0\n",
      "\n"
     ]
    }
   ],
   "metadata": {
    "tags": []
   }
  },
  {
   "cell_type": "markdown",
   "source": [
    "We can now add the material properties we plan to use in our analysis. These material will then be available in the 'Model' and can be used in the definition of the structural sections."
   ],
   "metadata": {}
  },
  {
   "cell_type": "code",
   "execution_count": 5,
   "source": [
    "# Define materials\r\n",
    "model.add_material(ElasticIsotropic(name='mat_A', E=29000, v=0.17, p=2.5e-9))\r\n",
    "model.add_material(ElasticIsotropic(name='mat_B', E=25000, v=0.17, p=2.5e-9))\r\n",
    "\r\n",
    "print(model.materials['mat_A'])"
   ],
   "outputs": [
    {
     "output_type": "stream",
     "name": "stdout",
     "text": [
      "\n",
      "compas_fea2 ElasticIsotropic object\n",
      "-----------------------------------\n",
      "E               : 29000\n",
      "G               : 12393.162393162394\n",
      "dtype           : compas_fea2.backends/ElasticIsotropic\n",
      "jobdata         : *Material, name=mat_A\n",
      "*Density\n",
      "2.5e-09,\n",
      "*Elastic\n",
      "29000, 0.17\n",
      "\n",
      "name            : mat_A\n",
      "p               : 2.5e-09\n",
      "unilateral      : None\n",
      "v               : 0.17\n",
      "\n"
     ]
    }
   ],
   "metadata": {
    "tags": []
   }
  },
  {
   "cell_type": "markdown",
   "source": [
    "`compas_fea2` uses the same convention as Abaqus where the materials are assigned to the section and not to the elements (sections are assigned to the elements).\n",
    "In the definition of a structural section you can specify a particular material by passing the material name. The structural properties are computed automatically accordingly to the type of section chosen (`BoxSection` in this case)"
   ],
   "metadata": {}
  },
  {
   "cell_type": "code",
   "execution_count": 7,
   "source": [
    "# Define sections\r\n",
    "model.add_section(BoxSection(name='section_A', material='mat_A', a=20, b=80, t=[5, 5, 2, 3]))\r\n",
    "model.add_section(BoxSection(name='section_B', material='mat_B', a=20, b=80, t=2))\r\n",
    "\r\n",
    "print(model.sections['section_A'])"
   ],
   "outputs": [
    {
     "output_type": "stream",
     "name": "stdout",
     "text": [
      "\n",
      "compas_fea2 Section object\n",
      "--------------------------\n",
      "dtype           : compas_fea2.backends/BoxSection\n",
      "guid            : 11d7f637-8848-43a0-b826-7c53ed34b0d2\n",
      "material        : mat_A\n",
      "name            : section_A\n",
      "properties      : [20, 80, 5, 5, 2, 3]\n",
      "\n"
     ]
    }
   ],
   "metadata": {
    "tags": []
   }
  },
  {
   "cell_type": "markdown",
   "source": [
    "Structural elements are defined by their type, connectivity and associated section. In this case we use a `BeamElement`, so we need to specify the 2 nodes it is connected to, with the 'BoxSection' defined before.\n",
    "Elements can be added to the `model` one by one or as a list. "
   ],
   "metadata": {}
  },
  {
   "cell_type": "code",
   "execution_count": 9,
   "source": [
    "# Generate elements between nodes\r\n",
    "elements = []\r\n",
    "for e in range(len(model.parts['part-1'].nodes)-1):\r\n",
    "    elements.append((BeamElement(connectivity=[e, e+1], section='section_A')))\r\n",
    "model.add_elements(elements=elements, part='part-1')\r\n",
    "model.add_element(element=BeamElement(connectivity=[29, 0], section='section_B'), part='part-1')\r\n",
    "\r\n",
    "print(model.parts['part-1'].elements[15])\r\n"
   ],
   "outputs": [
    {
     "output_type": "error",
     "ename": "AttributeError",
     "evalue": "can't set attribute",
     "traceback": [
      "\u001b[1;31m---------------------------------------------------------------------------\u001b[0m",
      "\u001b[1;31mAttributeError\u001b[0m                            Traceback (most recent call last)",
      "\u001b[1;32m~\\AppData\\Local\\Temp/ipykernel_39632/877658865.py\u001b[0m in \u001b[0;36m<module>\u001b[1;34m\u001b[0m\n\u001b[0;32m      3\u001b[0m \u001b[1;32mfor\u001b[0m \u001b[0me\u001b[0m \u001b[1;32min\u001b[0m \u001b[0mrange\u001b[0m\u001b[1;33m(\u001b[0m\u001b[0mlen\u001b[0m\u001b[1;33m(\u001b[0m\u001b[0mmodel\u001b[0m\u001b[1;33m.\u001b[0m\u001b[0mparts\u001b[0m\u001b[1;33m[\u001b[0m\u001b[1;34m'part-1'\u001b[0m\u001b[1;33m]\u001b[0m\u001b[1;33m.\u001b[0m\u001b[0mnodes\u001b[0m\u001b[1;33m)\u001b[0m\u001b[1;33m-\u001b[0m\u001b[1;36m1\u001b[0m\u001b[1;33m)\u001b[0m\u001b[1;33m:\u001b[0m\u001b[1;33m\u001b[0m\u001b[1;33m\u001b[0m\u001b[0m\n\u001b[0;32m      4\u001b[0m     \u001b[0melements\u001b[0m\u001b[1;33m.\u001b[0m\u001b[0mappend\u001b[0m\u001b[1;33m(\u001b[0m\u001b[1;33m(\u001b[0m\u001b[0mBeamElement\u001b[0m\u001b[1;33m(\u001b[0m\u001b[0mconnectivity\u001b[0m\u001b[1;33m=\u001b[0m\u001b[1;33m[\u001b[0m\u001b[0me\u001b[0m\u001b[1;33m,\u001b[0m \u001b[0me\u001b[0m\u001b[1;33m+\u001b[0m\u001b[1;36m1\u001b[0m\u001b[1;33m]\u001b[0m\u001b[1;33m,\u001b[0m \u001b[0msection\u001b[0m\u001b[1;33m=\u001b[0m\u001b[1;34m'section_A'\u001b[0m\u001b[1;33m)\u001b[0m\u001b[1;33m)\u001b[0m\u001b[1;33m)\u001b[0m\u001b[1;33m\u001b[0m\u001b[1;33m\u001b[0m\u001b[0m\n\u001b[1;32m----> 5\u001b[1;33m \u001b[0mmodel\u001b[0m\u001b[1;33m.\u001b[0m\u001b[0madd_elements\u001b[0m\u001b[1;33m(\u001b[0m\u001b[0melements\u001b[0m\u001b[1;33m=\u001b[0m\u001b[0melements\u001b[0m\u001b[1;33m,\u001b[0m \u001b[0mpart\u001b[0m\u001b[1;33m=\u001b[0m\u001b[1;34m'part-1'\u001b[0m\u001b[1;33m)\u001b[0m\u001b[1;33m\u001b[0m\u001b[1;33m\u001b[0m\u001b[0m\n\u001b[0m\u001b[0;32m      6\u001b[0m \u001b[0mmodel\u001b[0m\u001b[1;33m.\u001b[0m\u001b[0madd_element\u001b[0m\u001b[1;33m(\u001b[0m\u001b[0melement\u001b[0m\u001b[1;33m=\u001b[0m\u001b[0mBeamElement\u001b[0m\u001b[1;33m(\u001b[0m\u001b[0mconnectivity\u001b[0m\u001b[1;33m=\u001b[0m\u001b[1;33m[\u001b[0m\u001b[1;36m29\u001b[0m\u001b[1;33m,\u001b[0m \u001b[1;36m0\u001b[0m\u001b[1;33m]\u001b[0m\u001b[1;33m,\u001b[0m \u001b[0msection\u001b[0m\u001b[1;33m=\u001b[0m\u001b[1;34m'section_B'\u001b[0m\u001b[1;33m)\u001b[0m\u001b[1;33m,\u001b[0m \u001b[0mpart\u001b[0m\u001b[1;33m=\u001b[0m\u001b[1;34m'part-1'\u001b[0m\u001b[1;33m)\u001b[0m\u001b[1;33m\u001b[0m\u001b[1;33m\u001b[0m\u001b[0m\n\u001b[0;32m      7\u001b[0m \u001b[1;33m\u001b[0m\u001b[0m\n",
      "\u001b[1;32mc:\\code\\myrepos\\from_compas\\fea2\\src\\compas_fea2\\backends\\_base\\model\\model.py\u001b[0m in \u001b[0;36madd_elements\u001b[1;34m(self, elements, part)\u001b[0m\n\u001b[0;32m    664\u001b[0m \u001b[1;33m\u001b[0m\u001b[0m\n\u001b[0;32m    665\u001b[0m         \u001b[1;32mfor\u001b[0m \u001b[0melement\u001b[0m \u001b[1;32min\u001b[0m \u001b[0melements\u001b[0m\u001b[1;33m:\u001b[0m\u001b[1;33m\u001b[0m\u001b[1;33m\u001b[0m\u001b[0m\n\u001b[1;32m--> 666\u001b[1;33m             \u001b[0mself\u001b[0m\u001b[1;33m.\u001b[0m\u001b[0madd_element\u001b[0m\u001b[1;33m(\u001b[0m\u001b[0melement\u001b[0m\u001b[1;33m,\u001b[0m \u001b[0mpart\u001b[0m\u001b[1;33m)\u001b[0m\u001b[1;33m\u001b[0m\u001b[1;33m\u001b[0m\u001b[0m\n\u001b[0m\u001b[0;32m    667\u001b[0m \u001b[1;33m\u001b[0m\u001b[0m\n\u001b[0;32m    668\u001b[0m     \u001b[1;32mdef\u001b[0m \u001b[0mremove_element\u001b[0m\u001b[1;33m(\u001b[0m\u001b[0mself\u001b[0m\u001b[1;33m,\u001b[0m \u001b[0melement_key\u001b[0m\u001b[1;33m,\u001b[0m \u001b[0mpart\u001b[0m\u001b[1;33m)\u001b[0m\u001b[1;33m:\u001b[0m\u001b[1;33m\u001b[0m\u001b[1;33m\u001b[0m\u001b[0m\n",
      "\u001b[1;32mc:\\code\\myrepos\\from_compas\\fea2\\src\\compas_fea2\\backends\\_base\\model\\model.py\u001b[0m in \u001b[0;36madd_element\u001b[1;34m(self, element, part)\u001b[0m\n\u001b[0;32m    645\u001b[0m         \u001b[1;32melif\u001b[0m \u001b[0melement\u001b[0m\u001b[1;33m.\u001b[0m\u001b[0msection\u001b[0m \u001b[1;32mnot\u001b[0m \u001b[1;32min\u001b[0m \u001b[0mself\u001b[0m\u001b[1;33m.\u001b[0m\u001b[0mparts\u001b[0m\u001b[1;33m[\u001b[0m\u001b[0mpart\u001b[0m\u001b[1;33m]\u001b[0m\u001b[1;33m.\u001b[0m\u001b[0msections\u001b[0m\u001b[1;33m:\u001b[0m\u001b[1;33m\u001b[0m\u001b[1;33m\u001b[0m\u001b[0m\n\u001b[0;32m    646\u001b[0m             \u001b[0mself\u001b[0m\u001b[1;33m.\u001b[0m\u001b[0mparts\u001b[0m\u001b[1;33m[\u001b[0m\u001b[0mpart\u001b[0m\u001b[1;33m]\u001b[0m\u001b[1;33m.\u001b[0m\u001b[0msections\u001b[0m\u001b[1;33m[\u001b[0m\u001b[0melement\u001b[0m\u001b[1;33m.\u001b[0m\u001b[0msection\u001b[0m\u001b[1;33m]\u001b[0m \u001b[1;33m=\u001b[0m \u001b[0mself\u001b[0m\u001b[1;33m.\u001b[0m\u001b[0msections\u001b[0m\u001b[1;33m[\u001b[0m\u001b[0melement\u001b[0m\u001b[1;33m.\u001b[0m\u001b[0msection\u001b[0m\u001b[1;33m]\u001b[0m\u001b[1;33m\u001b[0m\u001b[1;33m\u001b[0m\u001b[0m\n\u001b[1;32m--> 647\u001b[1;33m         \u001b[0mself\u001b[0m\u001b[1;33m.\u001b[0m\u001b[0mparts\u001b[0m\u001b[1;33m[\u001b[0m\u001b[0mpart\u001b[0m\u001b[1;33m]\u001b[0m\u001b[1;33m.\u001b[0m\u001b[0madd_element\u001b[0m\u001b[1;33m(\u001b[0m\u001b[0melement\u001b[0m\u001b[1;33m)\u001b[0m\u001b[1;33m\u001b[0m\u001b[1;33m\u001b[0m\u001b[0m\n\u001b[0m\u001b[0;32m    648\u001b[0m         \u001b[0mself\u001b[0m\u001b[1;33m.\u001b[0m\u001b[0m_update_part_elements_to_model\u001b[0m\u001b[1;33m(\u001b[0m\u001b[0mself\u001b[0m\u001b[1;33m.\u001b[0m\u001b[0mparts\u001b[0m\u001b[1;33m[\u001b[0m\u001b[0mpart\u001b[0m\u001b[1;33m]\u001b[0m\u001b[1;33m)\u001b[0m  \u001b[1;31m# TODO this happens at every iteration...change!\u001b[0m\u001b[1;33m\u001b[0m\u001b[1;33m\u001b[0m\u001b[0m\n\u001b[0;32m    649\u001b[0m \u001b[1;33m\u001b[0m\u001b[0m\n",
      "\u001b[1;32mc:\\code\\myrepos\\from_compas\\fea2\\src\\compas_fea2\\backends\\_base\\model\\parts.py\u001b[0m in \u001b[0;36madd_element\u001b[1;34m(self, element, check)\u001b[0m\n\u001b[0;32m    351\u001b[0m             \u001b[0mprint\u001b[0m\u001b[1;33m(\u001b[0m\u001b[1;34m'WARNING: duplicate element connecting {} skipped!'\u001b[0m\u001b[1;33m.\u001b[0m\u001b[0mformat\u001b[0m\u001b[1;33m(\u001b[0m\u001b[0melement\u001b[0m\u001b[1;33m.\u001b[0m\u001b[0m_connectivity_key\u001b[0m\u001b[1;33m)\u001b[0m\u001b[1;33m)\u001b[0m\u001b[1;33m\u001b[0m\u001b[1;33m\u001b[0m\u001b[0m\n\u001b[0;32m    352\u001b[0m         \u001b[1;32melse\u001b[0m\u001b[1;33m:\u001b[0m\u001b[1;33m\u001b[0m\u001b[1;33m\u001b[0m\u001b[0m\n\u001b[1;32m--> 353\u001b[1;33m             \u001b[0melement\u001b[0m\u001b[1;33m.\u001b[0m\u001b[0m_key\u001b[0m \u001b[1;33m=\u001b[0m \u001b[0mlen\u001b[0m\u001b[1;33m(\u001b[0m\u001b[0mself\u001b[0m\u001b[1;33m.\u001b[0m\u001b[0melements\u001b[0m\u001b[1;33m)\u001b[0m\u001b[1;33m\u001b[0m\u001b[1;33m\u001b[0m\u001b[0m\n\u001b[0m\u001b[0;32m    354\u001b[0m             \u001b[1;32mfor\u001b[0m \u001b[0mc\u001b[0m \u001b[1;32min\u001b[0m \u001b[0melement\u001b[0m\u001b[1;33m.\u001b[0m\u001b[0m_connectivity\u001b[0m\u001b[1;33m:\u001b[0m\u001b[1;33m\u001b[0m\u001b[1;33m\u001b[0m\u001b[0m\n\u001b[0;32m    355\u001b[0m                 \u001b[1;32mif\u001b[0m \u001b[0mc\u001b[0m \u001b[1;32mnot\u001b[0m \u001b[1;32min\u001b[0m \u001b[1;33m[\u001b[0m\u001b[0mnode\u001b[0m\u001b[1;33m.\u001b[0m\u001b[0m_key\u001b[0m \u001b[1;32mfor\u001b[0m \u001b[0mnode\u001b[0m \u001b[1;32min\u001b[0m \u001b[0mself\u001b[0m\u001b[1;33m.\u001b[0m\u001b[0mnodes\u001b[0m\u001b[1;33m]\u001b[0m\u001b[1;33m:\u001b[0m\u001b[1;33m\u001b[0m\u001b[1;33m\u001b[0m\u001b[0m\n",
      "\u001b[1;31mAttributeError\u001b[0m: can't set attribute"
     ]
    }
   ],
   "metadata": {
    "tags": []
   }
  },
  {
   "cell_type": "markdown",
   "source": [
    "A `Set` is a unique collection of either nodes or elements and it is used to assign loads or boundary conditions.\n",
    "In this case we defined two sets for the boundary conditions using node `0` and `10` and one for a point load at node `20`. "
   ],
   "metadata": {}
  },
  {
   "cell_type": "code",
   "execution_count": null,
   "source": [
    "# Define sets for boundary conditions and loads\r\n",
    "model.add_instance_set(Set(name='fixed', selection=[0], stype='nset'), instance='part-1-1')\r\n",
    "model.add_instance_set(Set(name='roller', selection=[10], stype='nset'), instance='part-1-1')\r\n",
    "model.add_instance_set(Set(name='pload', selection=[20], stype='nset'), instance='part-1-1')"
   ],
   "outputs": [],
   "metadata": {}
  },
  {
   "cell_type": "code",
   "execution_count": null,
   "source": [
    "print(model)"
   ],
   "outputs": [],
   "metadata": {
    "tags": []
   }
  },
  {
   "cell_type": "markdown",
   "source": [
    "## Problem definition\n",
    "The second part of the FEA is to define the `Problem` to be solved. To define a `Problem` you need a `Model`, boundary conditions (`bcs`), `laods`, field and history `outputs` and analysis 'steps'.  "
   ],
   "metadata": {}
  },
  {
   "cell_type": "code",
   "execution_count": null,
   "source": [
    "\r\n",
    "# Create the Problem object\r\n",
    "problem = Problem(name='test_structure', model=model)\r\n",
    "\r\n",
    "# Assign boundary conditions to the node stes\r\n",
    "problem.add_bcs(bcs=[RollerDisplacementXZ(name='bc_roller', bset='roller'),\r\n",
    "                        FixedDisplacement(name='bc_fix', bset='fixed')])\r\n",
    "\r\n",
    "# Assign a point load to the node set\r\n",
    "problem.add_load(load=PointLoad(name='pload', lset='pload', y=-1000))\r\n",
    "\r\n",
    "# Define the field outputs required\r\n",
    "problem.add_field_output(fout=FieldOutput(name='fout'))\r\n",
    "\r\n",
    "# Define the analysis step\r\n",
    "problem.add_step(step=GeneralStaticStep(name='gstep', loads=['pload'], field_outputs=['fout']))\r\n",
    "\r\n",
    "print(problem)\r\n"
   ],
   "outputs": [],
   "metadata": {
    "tags": []
   }
  },
  {
   "cell_type": "markdown",
   "source": [
    "Once the `Probelm` is set, you can solve it running the analysis. You need to specify the location of the analysis files generated by Abaqus.\n",
    "The output log for now is limited to the one automatically generated by Abaqus, but the plan is to expand it to have more info about the status of the analysis, possible warnings or errors, etc. "
   ],
   "metadata": {}
  },
  {
   "cell_type": "code",
   "execution_count": null,
   "source": [
    "# Solve the problem\r\n",
    "# my_structure.write_input_file(path='C:/temp/test_structure')\r\n",
    "problem.analyse(path='C:/temp/fea2_workshop')"
   ],
   "outputs": [],
   "metadata": {
    "tags": []
   }
  },
  {
   "cell_type": "markdown",
   "source": [
    "## Results Visualization\n",
    "\n",
    "...not there yet... :)"
   ],
   "metadata": {}
  }
 ],
 "metadata": {
  "language_info": {
   "codemirror_mode": {
    "name": "ipython",
    "version": 3
   },
   "file_extension": ".py",
   "mimetype": "text/x-python",
   "name": "python",
   "nbconvert_exporter": "python",
   "pygments_lexer": "ipython3",
   "version": "3.8.6"
  },
  "orig_nbformat": 2,
  "kernelspec": {
   "name": "python3",
   "display_name": "Python 3.8.6 64-bit ('fea2': conda)"
  },
  "interpreter": {
   "hash": "31fc3f2b9c79b173e1d3c1022cbd1fc35c20eb62aa0381d417cbb023940773e7"
  }
 },
 "nbformat": 4,
 "nbformat_minor": 2
}